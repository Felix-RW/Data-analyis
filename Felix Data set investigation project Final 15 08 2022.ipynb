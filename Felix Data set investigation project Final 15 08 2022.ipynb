{
 "cells": [
  {
   "cell_type": "markdown",
   "id": "e35ffbb5",
   "metadata": {},
   "source": [
    "# Project: Investigate TMDb Movies data set"
   ]
  },
  {
   "cell_type": "markdown",
   "id": "c0b8754d",
   "metadata": {},
   "source": [
    "# Research Question\n",
    "1. What are the most popular genres from year to year?\n",
    "2. What types of properties are associated with high income films?\n",
    "3. What are the most popular films from one year to the next?"
   ]
  },
  {
   "cell_type": "code",
   "execution_count": 5,
   "id": "ce50b3b7",
   "metadata": {},
   "outputs": [],
   "source": [
    "import pandas as pd\n",
    "import numpy as np\n",
    "import matplotlib.pyplot as plt\n",
    "from collections import Counter"
   ]
  },
  {
   "cell_type": "markdown",
   "id": "82ebc953",
   "metadata": {},
   "source": [
    "Data wrangling\n",
    "\n",
    "load the data"
   ]
  },
  {
   "cell_type": "code",
   "execution_count": 6,
   "id": "9125bb07",
   "metadata": {},
   "outputs": [],
   "source": [
    "df = pd.read_csv('tmdb-movies.csv')"
   ]
  },
  {
   "cell_type": "code",
   "execution_count": 8,
   "id": "05085fab",
   "metadata": {},
   "outputs": [
    {
     "data": {
      "text/html": [
       "<div>\n",
       "<style scoped>\n",
       "    .dataframe tbody tr th:only-of-type {\n",
       "        vertical-align: middle;\n",
       "    }\n",
       "\n",
       "    .dataframe tbody tr th {\n",
       "        vertical-align: top;\n",
       "    }\n",
       "\n",
       "    .dataframe thead th {\n",
       "        text-align: right;\n",
       "    }\n",
       "</style>\n",
       "<table border=\"1\" class=\"dataframe\">\n",
       "  <thead>\n",
       "    <tr style=\"text-align: right;\">\n",
       "      <th></th>\n",
       "      <th>id</th>\n",
       "      <th>imdb_id</th>\n",
       "      <th>popularity</th>\n",
       "      <th>budget</th>\n",
       "      <th>revenue</th>\n",
       "      <th>original_title</th>\n",
       "      <th>cast</th>\n",
       "      <th>homepage</th>\n",
       "      <th>director</th>\n",
       "      <th>tagline</th>\n",
       "      <th>...</th>\n",
       "      <th>overview</th>\n",
       "      <th>runtime</th>\n",
       "      <th>genres</th>\n",
       "      <th>production_companies</th>\n",
       "      <th>release_date</th>\n",
       "      <th>vote_count</th>\n",
       "      <th>vote_average</th>\n",
       "      <th>release_year</th>\n",
       "      <th>budget_adj</th>\n",
       "      <th>revenue_adj</th>\n",
       "    </tr>\n",
       "  </thead>\n",
       "  <tbody>\n",
       "    <tr>\n",
       "      <th>0</th>\n",
       "      <td>135397</td>\n",
       "      <td>tt0369610</td>\n",
       "      <td>32.985763</td>\n",
       "      <td>150000000</td>\n",
       "      <td>1513528810</td>\n",
       "      <td>Jurassic World</td>\n",
       "      <td>Chris Pratt|Bryce Dallas Howard|Irrfan Khan|Vi...</td>\n",
       "      <td>http://www.jurassicworld.com/</td>\n",
       "      <td>Colin Trevorrow</td>\n",
       "      <td>The park is open.</td>\n",
       "      <td>...</td>\n",
       "      <td>Twenty-two years after the events of Jurassic ...</td>\n",
       "      <td>124</td>\n",
       "      <td>Action|Adventure|Science Fiction|Thriller</td>\n",
       "      <td>Universal Studios|Amblin Entertainment|Legenda...</td>\n",
       "      <td>6/9/15</td>\n",
       "      <td>5562</td>\n",
       "      <td>6.5</td>\n",
       "      <td>2015</td>\n",
       "      <td>1.379999e+08</td>\n",
       "      <td>1.392446e+09</td>\n",
       "    </tr>\n",
       "    <tr>\n",
       "      <th>1</th>\n",
       "      <td>76341</td>\n",
       "      <td>tt1392190</td>\n",
       "      <td>28.419936</td>\n",
       "      <td>150000000</td>\n",
       "      <td>378436354</td>\n",
       "      <td>Mad Max: Fury Road</td>\n",
       "      <td>Tom Hardy|Charlize Theron|Hugh Keays-Byrne|Nic...</td>\n",
       "      <td>http://www.madmaxmovie.com/</td>\n",
       "      <td>George Miller</td>\n",
       "      <td>What a Lovely Day.</td>\n",
       "      <td>...</td>\n",
       "      <td>An apocalyptic story set in the furthest reach...</td>\n",
       "      <td>120</td>\n",
       "      <td>Action|Adventure|Science Fiction|Thriller</td>\n",
       "      <td>Village Roadshow Pictures|Kennedy Miller Produ...</td>\n",
       "      <td>5/13/15</td>\n",
       "      <td>6185</td>\n",
       "      <td>7.1</td>\n",
       "      <td>2015</td>\n",
       "      <td>1.379999e+08</td>\n",
       "      <td>3.481613e+08</td>\n",
       "    </tr>\n",
       "    <tr>\n",
       "      <th>2</th>\n",
       "      <td>262500</td>\n",
       "      <td>tt2908446</td>\n",
       "      <td>13.112507</td>\n",
       "      <td>110000000</td>\n",
       "      <td>295238201</td>\n",
       "      <td>Insurgent</td>\n",
       "      <td>Shailene Woodley|Theo James|Kate Winslet|Ansel...</td>\n",
       "      <td>http://www.thedivergentseries.movie/#insurgent</td>\n",
       "      <td>Robert Schwentke</td>\n",
       "      <td>One Choice Can Destroy You</td>\n",
       "      <td>...</td>\n",
       "      <td>Beatrice Prior must confront her inner demons ...</td>\n",
       "      <td>119</td>\n",
       "      <td>Adventure|Science Fiction|Thriller</td>\n",
       "      <td>Summit Entertainment|Mandeville Films|Red Wago...</td>\n",
       "      <td>3/18/15</td>\n",
       "      <td>2480</td>\n",
       "      <td>6.3</td>\n",
       "      <td>2015</td>\n",
       "      <td>1.012000e+08</td>\n",
       "      <td>2.716190e+08</td>\n",
       "    </tr>\n",
       "    <tr>\n",
       "      <th>3</th>\n",
       "      <td>140607</td>\n",
       "      <td>tt2488496</td>\n",
       "      <td>11.173104</td>\n",
       "      <td>200000000</td>\n",
       "      <td>2068178225</td>\n",
       "      <td>Star Wars: The Force Awakens</td>\n",
       "      <td>Harrison Ford|Mark Hamill|Carrie Fisher|Adam D...</td>\n",
       "      <td>http://www.starwars.com/films/star-wars-episod...</td>\n",
       "      <td>J.J. Abrams</td>\n",
       "      <td>Every generation has a story.</td>\n",
       "      <td>...</td>\n",
       "      <td>Thirty years after defeating the Galactic Empi...</td>\n",
       "      <td>136</td>\n",
       "      <td>Action|Adventure|Science Fiction|Fantasy</td>\n",
       "      <td>Lucasfilm|Truenorth Productions|Bad Robot</td>\n",
       "      <td>12/15/15</td>\n",
       "      <td>5292</td>\n",
       "      <td>7.5</td>\n",
       "      <td>2015</td>\n",
       "      <td>1.839999e+08</td>\n",
       "      <td>1.902723e+09</td>\n",
       "    </tr>\n",
       "    <tr>\n",
       "      <th>4</th>\n",
       "      <td>168259</td>\n",
       "      <td>tt2820852</td>\n",
       "      <td>9.335014</td>\n",
       "      <td>190000000</td>\n",
       "      <td>1506249360</td>\n",
       "      <td>Furious 7</td>\n",
       "      <td>Vin Diesel|Paul Walker|Jason Statham|Michelle ...</td>\n",
       "      <td>http://www.furious7.com/</td>\n",
       "      <td>James Wan</td>\n",
       "      <td>Vengeance Hits Home</td>\n",
       "      <td>...</td>\n",
       "      <td>Deckard Shaw seeks revenge against Dominic Tor...</td>\n",
       "      <td>137</td>\n",
       "      <td>Action|Crime|Thriller</td>\n",
       "      <td>Universal Pictures|Original Film|Media Rights ...</td>\n",
       "      <td>4/1/15</td>\n",
       "      <td>2947</td>\n",
       "      <td>7.3</td>\n",
       "      <td>2015</td>\n",
       "      <td>1.747999e+08</td>\n",
       "      <td>1.385749e+09</td>\n",
       "    </tr>\n",
       "  </tbody>\n",
       "</table>\n",
       "<p>5 rows × 21 columns</p>\n",
       "</div>"
      ],
      "text/plain": [
       "       id    imdb_id  popularity     budget     revenue  \\\n",
       "0  135397  tt0369610   32.985763  150000000  1513528810   \n",
       "1   76341  tt1392190   28.419936  150000000   378436354   \n",
       "2  262500  tt2908446   13.112507  110000000   295238201   \n",
       "3  140607  tt2488496   11.173104  200000000  2068178225   \n",
       "4  168259  tt2820852    9.335014  190000000  1506249360   \n",
       "\n",
       "                 original_title  \\\n",
       "0                Jurassic World   \n",
       "1            Mad Max: Fury Road   \n",
       "2                     Insurgent   \n",
       "3  Star Wars: The Force Awakens   \n",
       "4                     Furious 7   \n",
       "\n",
       "                                                cast  \\\n",
       "0  Chris Pratt|Bryce Dallas Howard|Irrfan Khan|Vi...   \n",
       "1  Tom Hardy|Charlize Theron|Hugh Keays-Byrne|Nic...   \n",
       "2  Shailene Woodley|Theo James|Kate Winslet|Ansel...   \n",
       "3  Harrison Ford|Mark Hamill|Carrie Fisher|Adam D...   \n",
       "4  Vin Diesel|Paul Walker|Jason Statham|Michelle ...   \n",
       "\n",
       "                                            homepage          director  \\\n",
       "0                      http://www.jurassicworld.com/   Colin Trevorrow   \n",
       "1                        http://www.madmaxmovie.com/     George Miller   \n",
       "2     http://www.thedivergentseries.movie/#insurgent  Robert Schwentke   \n",
       "3  http://www.starwars.com/films/star-wars-episod...       J.J. Abrams   \n",
       "4                           http://www.furious7.com/         James Wan   \n",
       "\n",
       "                         tagline  ...  \\\n",
       "0              The park is open.  ...   \n",
       "1             What a Lovely Day.  ...   \n",
       "2     One Choice Can Destroy You  ...   \n",
       "3  Every generation has a story.  ...   \n",
       "4            Vengeance Hits Home  ...   \n",
       "\n",
       "                                            overview runtime  \\\n",
       "0  Twenty-two years after the events of Jurassic ...     124   \n",
       "1  An apocalyptic story set in the furthest reach...     120   \n",
       "2  Beatrice Prior must confront her inner demons ...     119   \n",
       "3  Thirty years after defeating the Galactic Empi...     136   \n",
       "4  Deckard Shaw seeks revenge against Dominic Tor...     137   \n",
       "\n",
       "                                      genres  \\\n",
       "0  Action|Adventure|Science Fiction|Thriller   \n",
       "1  Action|Adventure|Science Fiction|Thriller   \n",
       "2         Adventure|Science Fiction|Thriller   \n",
       "3   Action|Adventure|Science Fiction|Fantasy   \n",
       "4                      Action|Crime|Thriller   \n",
       "\n",
       "                                production_companies release_date vote_count  \\\n",
       "0  Universal Studios|Amblin Entertainment|Legenda...       6/9/15       5562   \n",
       "1  Village Roadshow Pictures|Kennedy Miller Produ...      5/13/15       6185   \n",
       "2  Summit Entertainment|Mandeville Films|Red Wago...      3/18/15       2480   \n",
       "3          Lucasfilm|Truenorth Productions|Bad Robot     12/15/15       5292   \n",
       "4  Universal Pictures|Original Film|Media Rights ...       4/1/15       2947   \n",
       "\n",
       "   vote_average  release_year    budget_adj   revenue_adj  \n",
       "0           6.5          2015  1.379999e+08  1.392446e+09  \n",
       "1           7.1          2015  1.379999e+08  3.481613e+08  \n",
       "2           6.3          2015  1.012000e+08  2.716190e+08  \n",
       "3           7.5          2015  1.839999e+08  1.902723e+09  \n",
       "4           7.3          2015  1.747999e+08  1.385749e+09  \n",
       "\n",
       "[5 rows x 21 columns]"
      ]
     },
     "execution_count": 8,
     "metadata": {},
     "output_type": "execute_result"
    }
   ],
   "source": [
    "df.head(5)"
   ]
  },
  {
   "cell_type": "code",
   "execution_count": null,
   "id": "4f9f197f",
   "metadata": {},
   "outputs": [],
   "source": []
  },
  {
   "cell_type": "code",
   "execution_count": 9,
   "id": "a8e34961",
   "metadata": {},
   "outputs": [],
   "source": [
    "df = pd.read_csv('tmdb-movies.csv')"
   ]
  },
  {
   "cell_type": "code",
   "execution_count": 10,
   "id": "b17a913d",
   "metadata": {},
   "outputs": [
    {
     "data": {
      "text/plain": [
       "1"
      ]
     },
     "execution_count": 10,
     "metadata": {},
     "output_type": "execute_result"
    }
   ],
   "source": [
    "df.duplicated().sum()"
   ]
  },
  {
   "cell_type": "code",
   "execution_count": 11,
   "id": "b74d4c89",
   "metadata": {},
   "outputs": [],
   "source": [
    "df.drop_duplicates(inplace = True)"
   ]
  },
  {
   "cell_type": "code",
   "execution_count": 12,
   "id": "c8269a7d",
   "metadata": {},
   "outputs": [
    {
     "data": {
      "text/plain": [
       "0"
      ]
     },
     "execution_count": 12,
     "metadata": {},
     "output_type": "execute_result"
    }
   ],
   "source": [
    "df.duplicated().sum()"
   ]
  },
  {
   "cell_type": "code",
   "execution_count": 7,
   "id": "c10705db",
   "metadata": {},
   "outputs": [
    {
     "name": "stdout",
     "output_type": "stream",
     "text": [
      "<class 'pandas.core.frame.DataFrame'>\n",
      "Int64Index: 10865 entries, 0 to 10865\n",
      "Data columns (total 21 columns):\n",
      " #   Column                Non-Null Count  Dtype  \n",
      "---  ------                --------------  -----  \n",
      " 0   id                    10865 non-null  int64  \n",
      " 1   imdb_id               10855 non-null  object \n",
      " 2   popularity            10865 non-null  float64\n",
      " 3   budget                10865 non-null  int64  \n",
      " 4   revenue               10865 non-null  int64  \n",
      " 5   original_title        10865 non-null  object \n",
      " 6   cast                  10789 non-null  object \n",
      " 7   homepage              2936 non-null   object \n",
      " 8   director              10821 non-null  object \n",
      " 9   tagline               8041 non-null   object \n",
      " 10  keywords              9372 non-null   object \n",
      " 11  overview              10861 non-null  object \n",
      " 12  runtime               10865 non-null  int64  \n",
      " 13  genres                10842 non-null  object \n",
      " 14  production_companies  9835 non-null   object \n",
      " 15  release_date          10865 non-null  object \n",
      " 16  vote_count            10865 non-null  int64  \n",
      " 17  vote_average          10865 non-null  float64\n",
      " 18  release_year          10865 non-null  int64  \n",
      " 19  budget_adj            10865 non-null  float64\n",
      " 20  revenue_adj           10865 non-null  float64\n",
      "dtypes: float64(4), int64(6), object(11)\n",
      "memory usage: 1.8+ MB\n"
     ]
    }
   ],
   "source": [
    "df.info()"
   ]
  },
  {
   "cell_type": "code",
   "execution_count": 13,
   "id": "a4fdae85",
   "metadata": {},
   "outputs": [],
   "source": [
    "import datetime as dt # for convering to date time object\n",
    "df['release_date'] = df['release_date'].apply(lambda x: dt.datetime.strptime(x, \"%m/%d/%y\"))"
   ]
  },
  {
   "cell_type": "code",
   "execution_count": 14,
   "id": "31793291",
   "metadata": {},
   "outputs": [
    {
     "data": {
      "text/plain": [
       "0   2015-06-09\n",
       "1   2015-05-13\n",
       "2   2015-03-18\n",
       "3   2015-12-15\n",
       "4   2015-04-01\n",
       "Name: release_date, dtype: datetime64[ns]"
      ]
     },
     "execution_count": 14,
     "metadata": {},
     "output_type": "execute_result"
    }
   ],
   "source": [
    "df['release_date'].head()"
   ]
  },
  {
   "cell_type": "code",
   "execution_count": 15,
   "id": "9120bc2e",
   "metadata": {},
   "outputs": [
    {
     "data": {
      "text/plain": [
       "10861   2066-06-15\n",
       "10862   2066-12-21\n",
       "10863   2066-01-01\n",
       "10864   2066-11-02\n",
       "10865   2066-11-15\n",
       "Name: release_date, dtype: datetime64[ns]"
      ]
     },
     "execution_count": 15,
     "metadata": {},
     "output_type": "execute_result"
    }
   ],
   "source": [
    "df['release_date'].tail()"
   ]
  },
  {
   "cell_type": "markdown",
   "id": "10d5cb1d",
   "metadata": {},
   "source": [
    "May be there is a problem while getting the value of year for some datetime objects. let's see the year which is converted incorectly\n",
    "\n",
    "the range of year was  of 1960-2015(both inclusive) but 2066 is showing in above code cell.\n",
    "\n",
    "let's check after conversion"
   ]
  },
  {
   "cell_type": "code",
   "execution_count": 16,
   "id": "b5315e22",
   "metadata": {},
   "outputs": [
    {
     "name": "stdout",
     "output_type": "stream",
     "text": [
      "[2060, 2061, 2062, 2063, 2064, 2065, 2066, 2067, 2068, 1969, 1970, 1971, 1972, 1973, 1974, 1975, 1976, 1977, 1978, 1979, 1980, 1981, 1982, 1983, 1984, 1985, 1986, 1987, 1988, 1989, 1990, 1991, 1992, 1993, 1994, 1995, 1996, 1997, 1998, 1999, 2000, 2001, 2002, 2003, 2004, 2005, 2006, 2007, 2008, 2009, 2010, 2011, 2012, 2013, 2014, 2015]\n"
     ]
    }
   ],
   "source": [
    "years = []\n",
    "for _ in df['release_date']:\n",
    "    years.append(_.year)\n",
    "print(list(set(years)))"
   ]
  },
  {
   "cell_type": "markdown",
   "id": "c5b7a860",
   "metadata": {},
   "source": [
    "No logical reason for this failure, but the years from 1969 to 1979 are historically known as the Python years. I believe that this may be the main reason why the years before 1969 were translated into 21st century years instead of the correct years (like 68 may be interpreted by Python as 2068 instead of 1968). just this is how i can explain this error.\n",
    "\n",
    "Fixing the year values for 2060-2068 ( both included ) by moving back 100 years:"
   ]
  },
  {
   "cell_type": "code",
   "execution_count": 17,
   "id": "41ac6352",
   "metadata": {},
   "outputs": [],
   "source": [
    "d_100 = []\n",
    "years = 100\n",
    "days_per_year = 365.24"
   ]
  },
  {
   "cell_type": "code",
   "execution_count": 18,
   "id": "6e109be1",
   "metadata": {},
   "outputs": [],
   "source": [
    "for d in df['release_date']:\n",
    "    if d.year >=2060:\n",
    "        #shifting back 100 years \n",
    "        tdelta = dt.timedelta(days = (years * days_per_year))\n",
    "        # corrected date\n",
    "        d-=tdelta\n",
    "        d_100.append(d)\n",
    "    else:\n",
    "        #as it is\n",
    "        d_100.append(d)"
   ]
  },
  {
   "cell_type": "markdown",
   "id": "832bc7ba",
   "metadata": {},
   "source": [
    "We do not move the years directly by -100 at once since the year parameter is not available in the dt.timedelta() method.\n",
    "\n",
    "We are now replacing the original release_date column (which was of type string) with the list d_100 (which is the corrected release_date)."
   ]
  },
  {
   "cell_type": "code",
   "execution_count": 19,
   "id": "c488a7fe",
   "metadata": {},
   "outputs": [],
   "source": [
    "df['release_date'] = d_100\n"
   ]
  },
  {
   "cell_type": "markdown",
   "id": "b96a1c81",
   "metadata": {},
   "source": [
    "Checking"
   ]
  },
  {
   "cell_type": "code",
   "execution_count": 20,
   "id": "d84d0ee4",
   "metadata": {},
   "outputs": [
    {
     "name": "stdout",
     "output_type": "stream",
     "text": [
      "[1960, 1961, 1962, 1963, 1964, 1965, 1966, 1967, 1968, 1969, 1970, 1971, 1972, 1973, 1974, 1975, 1976, 1977, 1978, 1979, 1980, 1981, 1982, 1983, 1984, 1985, 1986, 1987, 1988, 1989, 1990, 1991, 1992, 1993, 1994, 1995, 1996, 1997, 1998, 1999, 2000, 2001, 2002, 2003, 2004, 2005, 2006, 2007, 2008, 2009, 2010, 2011, 2012, 2013, 2014, 2015]\n"
     ]
    }
   ],
   "source": [
    "d = []\n",
    "for _ in df['release_date']:\n",
    "    d.append(_.year)\n",
    "print(list(set(d)))"
   ]
  },
  {
   "cell_type": "markdown",
   "id": "166194eb",
   "metadata": {},
   "source": [
    "# Removing undesired columns and handling missing data\n",
    "Checking important column for our analysis"
   ]
  },
  {
   "cell_type": "code",
   "execution_count": 18,
   "id": "62db54e0",
   "metadata": {},
   "outputs": [
    {
     "data": {
      "text/html": [
       "<div>\n",
       "<style scoped>\n",
       "    .dataframe tbody tr th:only-of-type {\n",
       "        vertical-align: middle;\n",
       "    }\n",
       "\n",
       "    .dataframe tbody tr th {\n",
       "        vertical-align: top;\n",
       "    }\n",
       "\n",
       "    .dataframe thead th {\n",
       "        text-align: right;\n",
       "    }\n",
       "</style>\n",
       "<table border=\"1\" class=\"dataframe\">\n",
       "  <thead>\n",
       "    <tr style=\"text-align: right;\">\n",
       "      <th></th>\n",
       "      <th>id</th>\n",
       "      <th>imdb_id</th>\n",
       "      <th>popularity</th>\n",
       "      <th>budget</th>\n",
       "      <th>revenue</th>\n",
       "      <th>original_title</th>\n",
       "      <th>cast</th>\n",
       "      <th>homepage</th>\n",
       "      <th>director</th>\n",
       "      <th>tagline</th>\n",
       "      <th>...</th>\n",
       "      <th>overview</th>\n",
       "      <th>runtime</th>\n",
       "      <th>genres</th>\n",
       "      <th>production_companies</th>\n",
       "      <th>release_date</th>\n",
       "      <th>vote_count</th>\n",
       "      <th>vote_average</th>\n",
       "      <th>release_year</th>\n",
       "      <th>budget_adj</th>\n",
       "      <th>revenue_adj</th>\n",
       "    </tr>\n",
       "  </thead>\n",
       "  <tbody>\n",
       "    <tr>\n",
       "      <th>0</th>\n",
       "      <td>135397</td>\n",
       "      <td>tt0369610</td>\n",
       "      <td>32.985763</td>\n",
       "      <td>150000000</td>\n",
       "      <td>1513528810</td>\n",
       "      <td>Jurassic World</td>\n",
       "      <td>Chris Pratt|Bryce Dallas Howard|Irrfan Khan|Vi...</td>\n",
       "      <td>http://www.jurassicworld.com/</td>\n",
       "      <td>Colin Trevorrow</td>\n",
       "      <td>The park is open.</td>\n",
       "      <td>...</td>\n",
       "      <td>Twenty-two years after the events of Jurassic ...</td>\n",
       "      <td>124</td>\n",
       "      <td>Action|Adventure|Science Fiction|Thriller</td>\n",
       "      <td>Universal Studios|Amblin Entertainment|Legenda...</td>\n",
       "      <td>2015-06-09</td>\n",
       "      <td>5562</td>\n",
       "      <td>6.5</td>\n",
       "      <td>2015</td>\n",
       "      <td>1.379999e+08</td>\n",
       "      <td>1.392446e+09</td>\n",
       "    </tr>\n",
       "    <tr>\n",
       "      <th>1</th>\n",
       "      <td>76341</td>\n",
       "      <td>tt1392190</td>\n",
       "      <td>28.419936</td>\n",
       "      <td>150000000</td>\n",
       "      <td>378436354</td>\n",
       "      <td>Mad Max: Fury Road</td>\n",
       "      <td>Tom Hardy|Charlize Theron|Hugh Keays-Byrne|Nic...</td>\n",
       "      <td>http://www.madmaxmovie.com/</td>\n",
       "      <td>George Miller</td>\n",
       "      <td>What a Lovely Day.</td>\n",
       "      <td>...</td>\n",
       "      <td>An apocalyptic story set in the furthest reach...</td>\n",
       "      <td>120</td>\n",
       "      <td>Action|Adventure|Science Fiction|Thriller</td>\n",
       "      <td>Village Roadshow Pictures|Kennedy Miller Produ...</td>\n",
       "      <td>2015-05-13</td>\n",
       "      <td>6185</td>\n",
       "      <td>7.1</td>\n",
       "      <td>2015</td>\n",
       "      <td>1.379999e+08</td>\n",
       "      <td>3.481613e+08</td>\n",
       "    </tr>\n",
       "    <tr>\n",
       "      <th>2</th>\n",
       "      <td>262500</td>\n",
       "      <td>tt2908446</td>\n",
       "      <td>13.112507</td>\n",
       "      <td>110000000</td>\n",
       "      <td>295238201</td>\n",
       "      <td>Insurgent</td>\n",
       "      <td>Shailene Woodley|Theo James|Kate Winslet|Ansel...</td>\n",
       "      <td>http://www.thedivergentseries.movie/#insurgent</td>\n",
       "      <td>Robert Schwentke</td>\n",
       "      <td>One Choice Can Destroy You</td>\n",
       "      <td>...</td>\n",
       "      <td>Beatrice Prior must confront her inner demons ...</td>\n",
       "      <td>119</td>\n",
       "      <td>Adventure|Science Fiction|Thriller</td>\n",
       "      <td>Summit Entertainment|Mandeville Films|Red Wago...</td>\n",
       "      <td>2015-03-18</td>\n",
       "      <td>2480</td>\n",
       "      <td>6.3</td>\n",
       "      <td>2015</td>\n",
       "      <td>1.012000e+08</td>\n",
       "      <td>2.716190e+08</td>\n",
       "    </tr>\n",
       "  </tbody>\n",
       "</table>\n",
       "<p>3 rows × 21 columns</p>\n",
       "</div>"
      ],
      "text/plain": [
       "       id    imdb_id  popularity     budget     revenue      original_title  \\\n",
       "0  135397  tt0369610   32.985763  150000000  1513528810      Jurassic World   \n",
       "1   76341  tt1392190   28.419936  150000000   378436354  Mad Max: Fury Road   \n",
       "2  262500  tt2908446   13.112507  110000000   295238201           Insurgent   \n",
       "\n",
       "                                                cast  \\\n",
       "0  Chris Pratt|Bryce Dallas Howard|Irrfan Khan|Vi...   \n",
       "1  Tom Hardy|Charlize Theron|Hugh Keays-Byrne|Nic...   \n",
       "2  Shailene Woodley|Theo James|Kate Winslet|Ansel...   \n",
       "\n",
       "                                         homepage          director  \\\n",
       "0                   http://www.jurassicworld.com/   Colin Trevorrow   \n",
       "1                     http://www.madmaxmovie.com/     George Miller   \n",
       "2  http://www.thedivergentseries.movie/#insurgent  Robert Schwentke   \n",
       "\n",
       "                      tagline  ...  \\\n",
       "0           The park is open.  ...   \n",
       "1          What a Lovely Day.  ...   \n",
       "2  One Choice Can Destroy You  ...   \n",
       "\n",
       "                                            overview runtime  \\\n",
       "0  Twenty-two years after the events of Jurassic ...     124   \n",
       "1  An apocalyptic story set in the furthest reach...     120   \n",
       "2  Beatrice Prior must confront her inner demons ...     119   \n",
       "\n",
       "                                      genres  \\\n",
       "0  Action|Adventure|Science Fiction|Thriller   \n",
       "1  Action|Adventure|Science Fiction|Thriller   \n",
       "2         Adventure|Science Fiction|Thriller   \n",
       "\n",
       "                                production_companies release_date vote_count  \\\n",
       "0  Universal Studios|Amblin Entertainment|Legenda...   2015-06-09       5562   \n",
       "1  Village Roadshow Pictures|Kennedy Miller Produ...   2015-05-13       6185   \n",
       "2  Summit Entertainment|Mandeville Films|Red Wago...   2015-03-18       2480   \n",
       "\n",
       "   vote_average  release_year    budget_adj   revenue_adj  \n",
       "0           6.5          2015  1.379999e+08  1.392446e+09  \n",
       "1           7.1          2015  1.379999e+08  3.481613e+08  \n",
       "2           6.3          2015  1.012000e+08  2.716190e+08  \n",
       "\n",
       "[3 rows x 21 columns]"
      ]
     },
     "execution_count": 18,
     "metadata": {},
     "output_type": "execute_result"
    }
   ],
   "source": [
    "df.head(3)"
   ]
  },
  {
   "cell_type": "code",
   "execution_count": 21,
   "id": "cce58ec9",
   "metadata": {},
   "outputs": [
    {
     "data": {
      "text/plain": [
       "(10865, 10865, 10865)"
      ]
     },
     "execution_count": 21,
     "metadata": {},
     "output_type": "execute_result"
    }
   ],
   "source": [
    "len(df['id']), len(df['imdb_id']), df.shape[0]"
   ]
  },
  {
   "cell_type": "markdown",
   "id": "3d0637cd",
   "metadata": {},
   "source": [
    "As the duplicates were removed in the first part of the analysis, the columns ['id', 'imdb_id'] are not relevant for this analysis. These values are single for each row, so it is better to use the row index instead of these columns."
   ]
  },
  {
   "cell_type": "code",
   "execution_count": 22,
   "id": "7498f980",
   "metadata": {},
   "outputs": [],
   "source": [
    "df.drop(['id', 'imdb_id'], axis = 1, inplace = True)"
   ]
  },
  {
   "cell_type": "markdown",
   "id": "e0434129",
   "metadata": {},
   "source": [
    "Let's investigate if the columns ['overview', 'original_title', 'homepage', 'tagline', 'production_companies', 'keywords'] can be classed as categorical data or not."
   ]
  },
  {
   "cell_type": "code",
   "execution_count": 23,
   "id": "2a059255",
   "metadata": {},
   "outputs": [
    {
     "name": "stdout",
     "output_type": "stream",
     "text": [
      "{'original_title': 10571, 'homepage': 2896, 'tagline': 7997, 'keywords': 8804, 'overview': 10847, 'production_companies': 7445}\n"
     ]
    }
   ],
   "source": [
    "test_col = ['overview', 'original_title', 'homepage', 'tagline', 'production_companies', 'keywords'] # 6 columns\n",
    "new_dict = {}\n",
    "for column in df:\n",
    "    if column in test_col:\n",
    "        new_dict[column] = df[column].nunique()\n",
    "print(new_dict)"
   ]
  },
  {
   "cell_type": "markdown",
   "id": "63fd0328",
   "metadata": {},
   "source": [
    "Levels of these 6 columns are very big. If levels for a certain column would have been around 10 then it is ok to consider that column as a categorical variable and faceting could be done based on that categorical column.\n",
    "\n",
    "But here, levels are 10571, 2896, 7997, 8804, 10847, 7445. Number of rows(10865) are around this much level. Faceting will be inconvenient.\n",
    "\n",
    "So, removing these columns, too, will not affect the result."
   ]
  },
  {
   "cell_type": "code",
   "execution_count": 24,
   "id": "80961825",
   "metadata": {},
   "outputs": [],
   "source": [
    "df.drop(['overview', 'original_title', 'homepage', 'tagline', 'production_companies', 'keywords'], axis = 1, inplace = True)\n"
   ]
  },
  {
   "cell_type": "markdown",
   "id": "e885c64d",
   "metadata": {},
   "source": [
    "Checking and handling missing data."
   ]
  },
  {
   "cell_type": "code",
   "execution_count": 25,
   "id": "dedcf6a0",
   "metadata": {},
   "outputs": [
    {
     "data": {
      "text/plain": [
       "3"
      ]
     },
     "execution_count": 25,
     "metadata": {},
     "output_type": "execute_result"
    }
   ],
   "source": [
    "df.isnull().any().sum()"
   ]
  },
  {
   "cell_type": "markdown",
   "id": "84a1f9b9",
   "metadata": {},
   "source": [
    "3 columns are missing values.\n",
    "\n",
    "Checking the incomplete columns:"
   ]
  },
  {
   "cell_type": "code",
   "execution_count": 26,
   "id": "48d1c0d3",
   "metadata": {},
   "outputs": [
    {
     "data": {
      "text/plain": [
       "popularity      False\n",
       "budget          False\n",
       "revenue         False\n",
       "cast             True\n",
       "director         True\n",
       "runtime         False\n",
       "genres           True\n",
       "release_date    False\n",
       "vote_count      False\n",
       "vote_average    False\n",
       "release_year    False\n",
       "budget_adj      False\n",
       "revenue_adj     False\n",
       "dtype: bool"
      ]
     },
     "execution_count": 26,
     "metadata": {},
     "output_type": "execute_result"
    }
   ],
   "source": [
    "df.isnull().any()"
   ]
  },
  {
   "cell_type": "markdown",
   "id": "658ec815",
   "metadata": {},
   "source": [
    "These column 'cast', 'director' and 'genres' are missing values. Let's see number of missing values for each of these columns to decide whether it is ok to drop them from dataframe.\n",
    "\n",
    "Creating a subset of df which has only incomplete rows:"
   ]
  },
  {
   "cell_type": "code",
   "execution_count": 27,
   "id": "a4c667de",
   "metadata": {},
   "outputs": [
    {
     "data": {
      "text/plain": [
       "134"
      ]
     },
     "execution_count": 27,
     "metadata": {},
     "output_type": "execute_result"
    }
   ],
   "source": [
    "null_data = df[df.isnull().any(axis = 1)]\n",
    "null_data.shape[0]"
   ]
  },
  {
   "cell_type": "code",
   "execution_count": 28,
   "id": "82af5168",
   "metadata": {},
   "outputs": [
    {
     "data": {
      "text/plain": [
       "1.23"
      ]
     },
     "execution_count": 28,
     "metadata": {},
     "output_type": "execute_result"
    }
   ],
   "source": [
    "round(100*null_data.shape[0]/df.shape[0], 2)"
   ]
  },
  {
   "cell_type": "markdown",
   "id": "3935b0ce",
   "metadata": {},
   "source": [
    "There are only 134 incomplete rows in aggregate. That's just 1.2 per cent of df. Now, let's see incomplete rows count for each column."
   ]
  },
  {
   "cell_type": "code",
   "execution_count": 29,
   "id": "d8cd756f",
   "metadata": {},
   "outputs": [],
   "source": [
    "miss_count = {}\n",
    "for column in null_data:\n",
    "    miss_count[column] = sum(pd.isnull(null_data[column]))"
   ]
  },
  {
   "cell_type": "code",
   "execution_count": 30,
   "id": "f6747a23",
   "metadata": {},
   "outputs": [
    {
     "data": {
      "text/plain": [
       "{'popularity': 0,\n",
       " 'budget': 0,\n",
       " 'revenue': 0,\n",
       " 'cast': 76,\n",
       " 'director': 44,\n",
       " 'runtime': 0,\n",
       " 'genres': 23,\n",
       " 'release_date': 0,\n",
       " 'vote_count': 0,\n",
       " 'vote_average': 0,\n",
       " 'release_year': 0,\n",
       " 'budget_adj': 0,\n",
       " 'revenue_adj': 0}"
      ]
     },
     "execution_count": 30,
     "metadata": {},
     "output_type": "execute_result"
    }
   ],
   "source": [
    "miss_count"
   ]
  },
  {
   "cell_type": "code",
   "execution_count": 31,
   "id": "c9b1770a",
   "metadata": {},
   "outputs": [
    {
     "data": {
      "text/plain": [
       "(143, 1.32)"
      ]
     },
     "execution_count": 31,
     "metadata": {},
     "output_type": "execute_result"
    }
   ],
   "source": [
    "76+44+23, round(100*(76+44+23)/df.shape[0], 2) # missing counts for columns: cast, director and genres"
   ]
  },
  {
   "cell_type": "code",
   "execution_count": 32,
   "id": "bbd5ec56",
   "metadata": {},
   "outputs": [],
   "source": [
    "df.dropna(subset=['cast', 'director', 'genres'], inplace = True)"
   ]
  },
  {
   "cell_type": "code",
   "execution_count": 33,
   "id": "ed814964",
   "metadata": {},
   "outputs": [],
   "source": [
    "miss_count = {}\n",
    "for column in df:\n",
    "    miss_count[column] = sum(pd.isnull(df[column]))"
   ]
  },
  {
   "cell_type": "code",
   "execution_count": 34,
   "id": "ddd168da",
   "metadata": {},
   "outputs": [
    {
     "data": {
      "text/plain": [
       "{'popularity': 0,\n",
       " 'budget': 0,\n",
       " 'revenue': 0,\n",
       " 'cast': 0,\n",
       " 'director': 0,\n",
       " 'runtime': 0,\n",
       " 'genres': 0,\n",
       " 'release_date': 0,\n",
       " 'vote_count': 0,\n",
       " 'vote_average': 0,\n",
       " 'release_year': 0,\n",
       " 'budget_adj': 0,\n",
       " 'revenue_adj': 0}"
      ]
     },
     "execution_count": 34,
     "metadata": {},
     "output_type": "execute_result"
    }
   ],
   "source": [
    "miss_count"
   ]
  },
  {
   "cell_type": "markdown",
   "id": "9cc8660a",
   "metadata": {},
   "source": [
    "# Exploratory Data Analysis\n",
    "Research Question 1: What are the most popular genres from year to year?\n",
    "I will first sort my data by release_date column for year to year analysis.\n",
    "\n",
    "Sorting by date:"
   ]
  },
  {
   "cell_type": "code",
   "execution_count": 35,
   "id": "8d91bb6f",
   "metadata": {},
   "outputs": [
    {
     "data": {
      "text/html": [
       "<div>\n",
       "<style scoped>\n",
       "    .dataframe tbody tr th:only-of-type {\n",
       "        vertical-align: middle;\n",
       "    }\n",
       "\n",
       "    .dataframe tbody tr th {\n",
       "        vertical-align: top;\n",
       "    }\n",
       "\n",
       "    .dataframe thead th {\n",
       "        text-align: right;\n",
       "    }\n",
       "</style>\n",
       "<table border=\"1\" class=\"dataframe\">\n",
       "  <thead>\n",
       "    <tr style=\"text-align: right;\">\n",
       "      <th></th>\n",
       "      <th>popularity</th>\n",
       "      <th>budget</th>\n",
       "      <th>revenue</th>\n",
       "      <th>cast</th>\n",
       "      <th>director</th>\n",
       "      <th>runtime</th>\n",
       "      <th>genres</th>\n",
       "      <th>release_date</th>\n",
       "      <th>vote_count</th>\n",
       "      <th>vote_average</th>\n",
       "      <th>release_year</th>\n",
       "      <th>budget_adj</th>\n",
       "      <th>revenue_adj</th>\n",
       "    </tr>\n",
       "  </thead>\n",
       "  <tbody>\n",
       "    <tr>\n",
       "      <th>10152</th>\n",
       "      <td>0.333643</td>\n",
       "      <td>0</td>\n",
       "      <td>0</td>\n",
       "      <td>Peter Cushing|Martita Hunt|Yvonne Monlaur|Fred...</td>\n",
       "      <td>Terence Fisher</td>\n",
       "      <td>85</td>\n",
       "      <td>Horror</td>\n",
       "      <td>1960-01-02</td>\n",
       "      <td>19</td>\n",
       "      <td>6.6</td>\n",
       "      <td>1960</td>\n",
       "      <td>0.0</td>\n",
       "      <td>0.0</td>\n",
       "    </tr>\n",
       "    <tr>\n",
       "      <th>10150</th>\n",
       "      <td>0.421043</td>\n",
       "      <td>0</td>\n",
       "      <td>0</td>\n",
       "      <td>Burt Lancaster|Audrey Hepburn|Audie Murphy|Joh...</td>\n",
       "      <td>John Huston</td>\n",
       "      <td>125</td>\n",
       "      <td>Action|Drama|Western</td>\n",
       "      <td>1960-01-02</td>\n",
       "      <td>17</td>\n",
       "      <td>4.9</td>\n",
       "      <td>1960</td>\n",
       "      <td>0.0</td>\n",
       "      <td>0.0</td>\n",
       "    </tr>\n",
       "    <tr>\n",
       "      <th>10162</th>\n",
       "      <td>0.194948</td>\n",
       "      <td>0</td>\n",
       "      <td>0</td>\n",
       "      <td>Kenneth More|Dana Wynter|Carl MÃ¶hner|Laurence...</td>\n",
       "      <td>Lewis Gilbert</td>\n",
       "      <td>97</td>\n",
       "      <td>Action|Drama|Foreign|History|War</td>\n",
       "      <td>1960-02-12</td>\n",
       "      <td>12</td>\n",
       "      <td>4.9</td>\n",
       "      <td>1960</td>\n",
       "      <td>0.0</td>\n",
       "      <td>0.0</td>\n",
       "    </tr>\n",
       "  </tbody>\n",
       "</table>\n",
       "</div>"
      ],
      "text/plain": [
       "       popularity  budget  revenue  \\\n",
       "10152    0.333643       0        0   \n",
       "10150    0.421043       0        0   \n",
       "10162    0.194948       0        0   \n",
       "\n",
       "                                                    cast        director  \\\n",
       "10152  Peter Cushing|Martita Hunt|Yvonne Monlaur|Fred...  Terence Fisher   \n",
       "10150  Burt Lancaster|Audrey Hepburn|Audie Murphy|Joh...     John Huston   \n",
       "10162  Kenneth More|Dana Wynter|Carl MÃ¶hner|Laurence...   Lewis Gilbert   \n",
       "\n",
       "       runtime                            genres release_date  vote_count  \\\n",
       "10152       85                            Horror   1960-01-02          19   \n",
       "10150      125              Action|Drama|Western   1960-01-02          17   \n",
       "10162       97  Action|Drama|Foreign|History|War   1960-02-12          12   \n",
       "\n",
       "       vote_average  release_year  budget_adj  revenue_adj  \n",
       "10152           6.6          1960         0.0          0.0  \n",
       "10150           4.9          1960         0.0          0.0  \n",
       "10162           4.9          1960         0.0          0.0  "
      ]
     },
     "execution_count": 35,
     "metadata": {},
     "output_type": "execute_result"
    }
   ],
   "source": [
    "df.sort_values(by = ['release_date'], inplace = True)\n",
    "df.head(3)"
   ]
  },
  {
   "cell_type": "markdown",
   "id": "80bbddc8",
   "metadata": {},
   "source": [
    "There are too many columns to deal with. We want to know which genres popular in this time period 1960-2015.\n",
    "For this part of EDA(question 1), I will remove columns that I am not interested in using."
   ]
  },
  {
   "cell_type": "code",
   "execution_count": 36,
   "id": "5e1cec2a",
   "metadata": {},
   "outputs": [
    {
     "data": {
      "text/plain": [
       "Index(['popularity', 'budget', 'revenue', 'cast', 'director', 'runtime',\n",
       "       'genres', 'release_date', 'vote_count', 'vote_average', 'release_year',\n",
       "       'budget_adj', 'revenue_adj'],\n",
       "      dtype='object')"
      ]
     },
     "execution_count": 36,
     "metadata": {},
     "output_type": "execute_result"
    }
   ],
   "source": [
    "df.columns\n"
   ]
  },
  {
   "cell_type": "code",
   "execution_count": 37,
   "id": "3eb454dc",
   "metadata": {},
   "outputs": [
    {
     "data": {
      "text/html": [
       "<div>\n",
       "<style scoped>\n",
       "    .dataframe tbody tr th:only-of-type {\n",
       "        vertical-align: middle;\n",
       "    }\n",
       "\n",
       "    .dataframe tbody tr th {\n",
       "        vertical-align: top;\n",
       "    }\n",
       "\n",
       "    .dataframe thead th {\n",
       "        text-align: right;\n",
       "    }\n",
       "</style>\n",
       "<table border=\"1\" class=\"dataframe\">\n",
       "  <thead>\n",
       "    <tr style=\"text-align: right;\">\n",
       "      <th></th>\n",
       "      <th>genres</th>\n",
       "      <th>release_date</th>\n",
       "      <th>release_year</th>\n",
       "    </tr>\n",
       "  </thead>\n",
       "  <tbody>\n",
       "    <tr>\n",
       "      <th>10152</th>\n",
       "      <td>Horror</td>\n",
       "      <td>1960-01-02</td>\n",
       "      <td>1960</td>\n",
       "    </tr>\n",
       "    <tr>\n",
       "      <th>10150</th>\n",
       "      <td>Action|Drama|Western</td>\n",
       "      <td>1960-01-02</td>\n",
       "      <td>1960</td>\n",
       "    </tr>\n",
       "    <tr>\n",
       "      <th>10162</th>\n",
       "      <td>Action|Drama|Foreign|History|War</td>\n",
       "      <td>1960-02-12</td>\n",
       "      <td>1960</td>\n",
       "    </tr>\n",
       "  </tbody>\n",
       "</table>\n",
       "</div>"
      ],
      "text/plain": [
       "                                 genres release_date  release_year\n",
       "10152                            Horror   1960-01-02          1960\n",
       "10150              Action|Drama|Western   1960-01-02          1960\n",
       "10162  Action|Drama|Foreign|History|War   1960-02-12          1960"
      ]
     },
     "execution_count": 37,
     "metadata": {},
     "output_type": "execute_result"
    }
   ],
   "source": [
    "df_r1 = df.drop(['popularity', 'budget', 'revenue', 'cast', 'director', 'runtime', 'vote_count', 'vote_average', 'budget_adj', 'revenue_adj'], axis = 1)\n",
    "df_r1.head(3)"
   ]
  },
  {
   "cell_type": "markdown",
   "id": "59d26bab",
   "metadata": {},
   "source": [
    "You might be thinking why I removed popularity and budget-revenue columns, specifically popularity.That's because they are properties of each movie, not each genre. We cannot infer the popularity of a genre by popularity of the movie in which it is there. That's because every movie is a mix of different type of genres and there is not a correct way to distribute the popularity of a movie among its constitute genres.\n",
    "\n",
    "Since we are analysing genres trends from year to year, we can further remove release_date column particularly for this research question because we have release_year column for that.\n",
    "\n",
    "Removing release_date column:"
   ]
  },
  {
   "cell_type": "code",
   "execution_count": 38,
   "id": "861503fd",
   "metadata": {},
   "outputs": [
    {
     "data": {
      "text/html": [
       "<div>\n",
       "<style scoped>\n",
       "    .dataframe tbody tr th:only-of-type {\n",
       "        vertical-align: middle;\n",
       "    }\n",
       "\n",
       "    .dataframe tbody tr th {\n",
       "        vertical-align: top;\n",
       "    }\n",
       "\n",
       "    .dataframe thead th {\n",
       "        text-align: right;\n",
       "    }\n",
       "</style>\n",
       "<table border=\"1\" class=\"dataframe\">\n",
       "  <thead>\n",
       "    <tr style=\"text-align: right;\">\n",
       "      <th></th>\n",
       "      <th>genres</th>\n",
       "      <th>release_year</th>\n",
       "    </tr>\n",
       "  </thead>\n",
       "  <tbody>\n",
       "    <tr>\n",
       "      <th>10152</th>\n",
       "      <td>Horror</td>\n",
       "      <td>1960</td>\n",
       "    </tr>\n",
       "    <tr>\n",
       "      <th>10150</th>\n",
       "      <td>Action|Drama|Western</td>\n",
       "      <td>1960</td>\n",
       "    </tr>\n",
       "    <tr>\n",
       "      <th>10162</th>\n",
       "      <td>Action|Drama|Foreign|History|War</td>\n",
       "      <td>1960</td>\n",
       "    </tr>\n",
       "  </tbody>\n",
       "</table>\n",
       "</div>"
      ],
      "text/plain": [
       "                                 genres  release_year\n",
       "10152                            Horror          1960\n",
       "10150              Action|Drama|Western          1960\n",
       "10162  Action|Drama|Foreign|History|War          1960"
      ]
     },
     "execution_count": 38,
     "metadata": {},
     "output_type": "execute_result"
    }
   ],
   "source": [
    "df_r1.drop(['release_date'], axis = 1, inplace = True)\n",
    "df_r1.head(3)"
   ]
  },
  {
   "cell_type": "markdown",
   "id": "1f991d17",
   "metadata": {},
   "source": [
    "We can see that Action and Drama are repeated above.\n",
    "This means each movie contains genres separated by pipe operator \"|\".\n",
    "Let's look at of genres column:"
   ]
  },
  {
   "cell_type": "code",
   "execution_count": 39,
   "id": "48ec8a75",
   "metadata": {},
   "outputs": [
    {
     "data": {
      "text/plain": [
       "10152                               Horror\n",
       "10150                 Action|Drama|Western\n",
       "10162     Action|Drama|Foreign|History|War\n",
       "10166                               Comedy\n",
       "10156                       Action|Western\n",
       "                       ...                \n",
       "540                          Mystery|Drama\n",
       "569                           Drama|Horror\n",
       "144         Animation|Comedy|Drama|Romance\n",
       "190      Animation|Comedy|Family|Adventure\n",
       "322                  Drama|Horror|Thriller\n",
       "Name: genres, Length: 10731, dtype: object"
      ]
     },
     "execution_count": 39,
     "metadata": {},
     "output_type": "execute_result"
    }
   ],
   "source": [
    "df_r1['genres']"
   ]
  },
  {
   "cell_type": "markdown",
   "id": "4f8e7e75",
   "metadata": {},
   "source": [
    "Creating a list of unique genres from 1960-2015:"
   ]
  },
  {
   "cell_type": "code",
   "execution_count": 40,
   "id": "5026acc8",
   "metadata": {},
   "outputs": [],
   "source": [
    "def unique(col):\n",
    "    \"\"\"\n",
    "    Takes input as a dataframe column and output a list containing\n",
    "    unique values from that column.\n",
    "    \"\"\"\n",
    "    \n",
    "    # pandas series to list\n",
    "    entries = list(col)\n",
    "    \n",
    "    # handling \"|\" separator and removing duplicates\n",
    "    collect = [] #this will contain all the unique genres\n",
    "    \n",
    "    for entry in entries:\n",
    "        for _ in entry.split(\"|\"):\n",
    "            if _ not in collect:\n",
    "                collect.append(_)\n",
    "    return(collect)"
   ]
  },
  {
   "cell_type": "code",
   "execution_count": 41,
   "id": "ffa8b0cc",
   "metadata": {},
   "outputs": [
    {
     "data": {
      "text/plain": [
       "['Horror',\n",
       " 'Action',\n",
       " 'Drama',\n",
       " 'Western',\n",
       " 'Foreign',\n",
       " 'History',\n",
       " 'War',\n",
       " 'Comedy',\n",
       " 'Thriller',\n",
       " 'Crime',\n",
       " 'Family',\n",
       " 'Romance',\n",
       " 'Science Fiction',\n",
       " 'Adventure',\n",
       " 'Fantasy',\n",
       " 'Music',\n",
       " 'Mystery',\n",
       " 'Animation',\n",
       " 'TV Movie',\n",
       " 'Documentary']"
      ]
     },
     "execution_count": 41,
     "metadata": {},
     "output_type": "execute_result"
    }
   ],
   "source": [
    "unique(df_r1['genres'])"
   ]
  },
  {
   "cell_type": "code",
   "execution_count": 42,
   "id": "78c774fd",
   "metadata": {},
   "outputs": [
    {
     "data": {
      "text/plain": [
       "(20, 10731)"
      ]
     },
     "execution_count": 42,
     "metadata": {},
     "output_type": "execute_result"
    }
   ],
   "source": [
    "len(unique(df_r1['genres'])), df_r1.shape[0]"
   ]
  },
  {
   "cell_type": "markdown",
   "id": "f5f49326",
   "metadata": {},
   "source": [
    "The o/p in above text cell shows that all the entries in df_r1['genres'] has 10731 entries which are different combinations of elements from unique(df_r1['genres']). Now let's calculate occurrence of each genre for corresponding year.\n",
    "\n",
    "Creating a list of all the years:"
   ]
  },
  {
   "cell_type": "code",
   "execution_count": 43,
   "id": "8eec0268",
   "metadata": {},
   "outputs": [],
   "source": [
    "year = df_r1['release_year'].unique()\n"
   ]
  },
  {
   "cell_type": "code",
   "execution_count": 44,
   "id": "bae9f6a3",
   "metadata": {},
   "outputs": [
    {
     "data": {
      "text/plain": [
       "array([1960, 1961, 1962, 1963, 1964, 1965, 1966, 1967, 1968, 1969, 1970,\n",
       "       1971, 1972, 1973, 1974, 1975, 1976, 1977, 1978, 1979, 1980, 1981,\n",
       "       1982, 1983, 1984, 1985, 1986, 1987, 1988, 1989, 1990, 1991, 1992,\n",
       "       1993, 1994, 1995, 1996, 1997, 1998, 1999, 2000, 2001, 2002, 2003,\n",
       "       2004, 2005, 2006, 2007, 2008, 2009, 2010, 2011, 2012, 2013, 2014,\n",
       "       2015], dtype=int64)"
      ]
     },
     "execution_count": 44,
     "metadata": {},
     "output_type": "execute_result"
    }
   ],
   "source": [
    "year"
   ]
  },
  {
   "cell_type": "markdown",
   "id": "1b146bff",
   "metadata": {},
   "source": [
    "I will start by creating an empty dictionary new_df."
   ]
  },
  {
   "cell_type": "code",
   "execution_count": 45,
   "id": "1be35ea1",
   "metadata": {},
   "outputs": [
    {
     "data": {
      "text/plain": [
       "{'Horror': [],\n",
       " 'Action': [],\n",
       " 'Drama': [],\n",
       " 'Western': [],\n",
       " 'Foreign': [],\n",
       " 'History': [],\n",
       " 'War': [],\n",
       " 'Comedy': [],\n",
       " 'Thriller': [],\n",
       " 'Crime': [],\n",
       " 'Family': [],\n",
       " 'Romance': [],\n",
       " 'Science Fiction': [],\n",
       " 'Adventure': [],\n",
       " 'Fantasy': [],\n",
       " 'Music': [],\n",
       " 'Mystery': [],\n",
       " 'Animation': [],\n",
       " 'TV Movie': [],\n",
       " 'Documentary': []}"
      ]
     },
     "execution_count": 45,
     "metadata": {},
     "output_type": "execute_result"
    }
   ],
   "source": [
    "new_df = {key:[] for key in unique(df_r1['genres'])}\n",
    "new_df"
   ]
  },
  {
   "cell_type": "code",
   "execution_count": 46,
   "id": "e0ee6f43",
   "metadata": {},
   "outputs": [
    {
     "data": {
      "text/plain": [
       "{'Horror': [],\n",
       " 'Action': [],\n",
       " 'Drama': [],\n",
       " 'Western': [],\n",
       " 'Foreign': [],\n",
       " 'History': [],\n",
       " 'War': [],\n",
       " 'Comedy': [],\n",
       " 'Thriller': [],\n",
       " 'Crime': [],\n",
       " 'Family': [],\n",
       " 'Romance': [],\n",
       " 'Science Fiction': [],\n",
       " 'Adventure': [],\n",
       " 'Fantasy': [],\n",
       " 'Music': [],\n",
       " 'Mystery': [],\n",
       " 'Animation': [],\n",
       " 'TV Movie': [],\n",
       " 'Documentary': [],\n",
       " 'year': array([1960, 1961, 1962, 1963, 1964, 1965, 1966, 1967, 1968, 1969, 1970,\n",
       "        1971, 1972, 1973, 1974, 1975, 1976, 1977, 1978, 1979, 1980, 1981,\n",
       "        1982, 1983, 1984, 1985, 1986, 1987, 1988, 1989, 1990, 1991, 1992,\n",
       "        1993, 1994, 1995, 1996, 1997, 1998, 1999, 2000, 2001, 2002, 2003,\n",
       "        2004, 2005, 2006, 2007, 2008, 2009, 2010, 2011, 2012, 2013, 2014,\n",
       "        2015], dtype=int64)}"
      ]
     },
     "execution_count": 46,
     "metadata": {},
     "output_type": "execute_result"
    }
   ],
   "source": [
    "new_df['year'] = year\n",
    "new_df"
   ]
  },
  {
   "cell_type": "code",
   "execution_count": 47,
   "id": "8b7b18a0",
   "metadata": {},
   "outputs": [],
   "source": [
    "for y in year: # to get genre count for each year\n",
    "    \n",
    "    #subsetting for corresponding year\n",
    "    y_df_r1 = df_r1[df_r1['release_year'] == y]\n",
    "    \n",
    "    # converting pandas series to column\n",
    "    genres_i1 = list(y_df_r1['genres'])  \n",
    "    genres_f1 = [] # this will contain all the genres that we see for a given year(with repetition and \"|\" separator)\n",
    "    \n",
    "    for genre in genres_i1: # for splitting every entry in y_df[genres] with separator as \"|\" \n",
    "        for i in genre.split(\"|\"):\n",
    "            genres_f1.append(i)\n",
    "\n",
    "    new_list = Counter(genres_f1) # occurrence of each genre in a year\n",
    "    for genre in unique(df_r1['genres']): #this will create occurrence of each genre in a year\n",
    "        if genre not in genres_f1:\n",
    "            new_df[genre].append(0)\n",
    "        else:\n",
    "            new_df[genre].append(new_list[genre])"
   ]
  },
  {
   "cell_type": "markdown",
   "id": "20c82318",
   "metadata": {},
   "source": [
    "converting this dictionary to data frame:"
   ]
  },
  {
   "cell_type": "code",
   "execution_count": 48,
   "id": "bed42242",
   "metadata": {},
   "outputs": [
    {
     "data": {
      "text/html": [
       "<div>\n",
       "<style scoped>\n",
       "    .dataframe tbody tr th:only-of-type {\n",
       "        vertical-align: middle;\n",
       "    }\n",
       "\n",
       "    .dataframe tbody tr th {\n",
       "        vertical-align: top;\n",
       "    }\n",
       "\n",
       "    .dataframe thead th {\n",
       "        text-align: right;\n",
       "    }\n",
       "</style>\n",
       "<table border=\"1\" class=\"dataframe\">\n",
       "  <thead>\n",
       "    <tr style=\"text-align: right;\">\n",
       "      <th></th>\n",
       "      <th>Horror</th>\n",
       "      <th>Action</th>\n",
       "      <th>Drama</th>\n",
       "      <th>Western</th>\n",
       "      <th>Foreign</th>\n",
       "      <th>History</th>\n",
       "      <th>War</th>\n",
       "      <th>Comedy</th>\n",
       "      <th>Thriller</th>\n",
       "      <th>Crime</th>\n",
       "      <th>...</th>\n",
       "      <th>Romance</th>\n",
       "      <th>Science Fiction</th>\n",
       "      <th>Adventure</th>\n",
       "      <th>Fantasy</th>\n",
       "      <th>Music</th>\n",
       "      <th>Mystery</th>\n",
       "      <th>Animation</th>\n",
       "      <th>TV Movie</th>\n",
       "      <th>Documentary</th>\n",
       "      <th>year</th>\n",
       "    </tr>\n",
       "  </thead>\n",
       "  <tbody>\n",
       "    <tr>\n",
       "      <th>1960</th>\n",
       "      <td>7</td>\n",
       "      <td>8</td>\n",
       "      <td>13</td>\n",
       "      <td>6</td>\n",
       "      <td>1</td>\n",
       "      <td>5</td>\n",
       "      <td>2</td>\n",
       "      <td>8</td>\n",
       "      <td>6</td>\n",
       "      <td>2</td>\n",
       "      <td>...</td>\n",
       "      <td>6</td>\n",
       "      <td>3</td>\n",
       "      <td>5</td>\n",
       "      <td>2</td>\n",
       "      <td>1</td>\n",
       "      <td>0</td>\n",
       "      <td>0</td>\n",
       "      <td>0</td>\n",
       "      <td>0</td>\n",
       "      <td>1960</td>\n",
       "    </tr>\n",
       "    <tr>\n",
       "      <th>1961</th>\n",
       "      <td>3</td>\n",
       "      <td>7</td>\n",
       "      <td>16</td>\n",
       "      <td>3</td>\n",
       "      <td>1</td>\n",
       "      <td>3</td>\n",
       "      <td>2</td>\n",
       "      <td>10</td>\n",
       "      <td>0</td>\n",
       "      <td>2</td>\n",
       "      <td>...</td>\n",
       "      <td>7</td>\n",
       "      <td>4</td>\n",
       "      <td>6</td>\n",
       "      <td>2</td>\n",
       "      <td>2</td>\n",
       "      <td>1</td>\n",
       "      <td>1</td>\n",
       "      <td>0</td>\n",
       "      <td>0</td>\n",
       "      <td>1961</td>\n",
       "    </tr>\n",
       "    <tr>\n",
       "      <th>1962</th>\n",
       "      <td>5</td>\n",
       "      <td>8</td>\n",
       "      <td>21</td>\n",
       "      <td>3</td>\n",
       "      <td>1</td>\n",
       "      <td>4</td>\n",
       "      <td>3</td>\n",
       "      <td>5</td>\n",
       "      <td>7</td>\n",
       "      <td>3</td>\n",
       "      <td>...</td>\n",
       "      <td>5</td>\n",
       "      <td>2</td>\n",
       "      <td>7</td>\n",
       "      <td>1</td>\n",
       "      <td>1</td>\n",
       "      <td>4</td>\n",
       "      <td>0</td>\n",
       "      <td>0</td>\n",
       "      <td>0</td>\n",
       "      <td>1962</td>\n",
       "    </tr>\n",
       "    <tr>\n",
       "      <th>1963</th>\n",
       "      <td>9</td>\n",
       "      <td>4</td>\n",
       "      <td>13</td>\n",
       "      <td>2</td>\n",
       "      <td>2</td>\n",
       "      <td>4</td>\n",
       "      <td>1</td>\n",
       "      <td>13</td>\n",
       "      <td>10</td>\n",
       "      <td>4</td>\n",
       "      <td>...</td>\n",
       "      <td>8</td>\n",
       "      <td>2</td>\n",
       "      <td>7</td>\n",
       "      <td>2</td>\n",
       "      <td>0</td>\n",
       "      <td>6</td>\n",
       "      <td>1</td>\n",
       "      <td>0</td>\n",
       "      <td>0</td>\n",
       "      <td>1963</td>\n",
       "    </tr>\n",
       "    <tr>\n",
       "      <th>1964</th>\n",
       "      <td>6</td>\n",
       "      <td>5</td>\n",
       "      <td>20</td>\n",
       "      <td>1</td>\n",
       "      <td>1</td>\n",
       "      <td>3</td>\n",
       "      <td>3</td>\n",
       "      <td>16</td>\n",
       "      <td>9</td>\n",
       "      <td>10</td>\n",
       "      <td>...</td>\n",
       "      <td>9</td>\n",
       "      <td>4</td>\n",
       "      <td>5</td>\n",
       "      <td>4</td>\n",
       "      <td>5</td>\n",
       "      <td>4</td>\n",
       "      <td>2</td>\n",
       "      <td>0</td>\n",
       "      <td>0</td>\n",
       "      <td>1964</td>\n",
       "    </tr>\n",
       "  </tbody>\n",
       "</table>\n",
       "<p>5 rows × 21 columns</p>\n",
       "</div>"
      ],
      "text/plain": [
       "      Horror  Action  Drama  Western  Foreign  History  War  Comedy  Thriller  \\\n",
       "1960       7       8     13        6        1        5    2       8         6   \n",
       "1961       3       7     16        3        1        3    2      10         0   \n",
       "1962       5       8     21        3        1        4    3       5         7   \n",
       "1963       9       4     13        2        2        4    1      13        10   \n",
       "1964       6       5     20        1        1        3    3      16         9   \n",
       "\n",
       "      Crime  ...  Romance  Science Fiction  Adventure  Fantasy  Music  \\\n",
       "1960      2  ...        6                3          5        2      1   \n",
       "1961      2  ...        7                4          6        2      2   \n",
       "1962      3  ...        5                2          7        1      1   \n",
       "1963      4  ...        8                2          7        2      0   \n",
       "1964     10  ...        9                4          5        4      5   \n",
       "\n",
       "      Mystery  Animation  TV Movie  Documentary  year  \n",
       "1960        0          0         0            0  1960  \n",
       "1961        1          1         0            0  1961  \n",
       "1962        4          0         0            0  1962  \n",
       "1963        6          1         0            0  1963  \n",
       "1964        4          2         0            0  1964  \n",
       "\n",
       "[5 rows x 21 columns]"
      ]
     },
     "execution_count": 48,
     "metadata": {},
     "output_type": "execute_result"
    }
   ],
   "source": [
    "new_df = pd.DataFrame(new_df, index = new_df['year'])\n",
    "new_df.head()\n"
   ]
  },
  {
   "cell_type": "code",
   "execution_count": 49,
   "id": "fa93b232",
   "metadata": {},
   "outputs": [
    {
     "data": {
      "text/plain": [
       "Index(['Horror', 'Action', 'Drama', 'Western', 'Foreign', 'History', 'War',\n",
       "       'Comedy', 'Thriller', 'Crime', 'Family', 'Romance', 'Science Fiction',\n",
       "       'Adventure', 'Fantasy', 'Music', 'Mystery', 'Animation', 'TV Movie',\n",
       "       'Documentary', 'year'],\n",
       "      dtype='object')"
      ]
     },
     "execution_count": 49,
     "metadata": {},
     "output_type": "execute_result"
    }
   ],
   "source": [
    "new_df.columns"
   ]
  },
  {
   "cell_type": "code",
   "execution_count": 50,
   "id": "0f73976c",
   "metadata": {},
   "outputs": [],
   "source": [
    "del(new_df['year'])\n"
   ]
  },
  {
   "cell_type": "code",
   "execution_count": 51,
   "id": "5fae5f01",
   "metadata": {},
   "outputs": [
    {
     "data": {
      "text/plain": [
       "Index(['Horror', 'Action', 'Drama', 'Western', 'Foreign', 'History', 'War',\n",
       "       'Comedy', 'Thriller', 'Crime', 'Family', 'Romance', 'Science Fiction',\n",
       "       'Adventure', 'Fantasy', 'Music', 'Mystery', 'Animation', 'TV Movie',\n",
       "       'Documentary'],\n",
       "      dtype='object')"
      ]
     },
     "execution_count": 51,
     "metadata": {},
     "output_type": "execute_result"
    }
   ],
   "source": [
    "new_df.columns\n"
   ]
  },
  {
   "cell_type": "code",
   "execution_count": 52,
   "id": "8a150707",
   "metadata": {},
   "outputs": [
    {
     "data": {
      "text/plain": [
       "(56, 20)"
      ]
     },
     "execution_count": 52,
     "metadata": {},
     "output_type": "execute_result"
    }
   ],
   "source": [
    "new_df.shape\n",
    "# new_df.head()\n"
   ]
  },
  {
   "cell_type": "code",
   "execution_count": 53,
   "id": "08ae6561",
   "metadata": {},
   "outputs": [
    {
     "data": {
      "text/html": [
       "<div>\n",
       "<style scoped>\n",
       "    .dataframe tbody tr th:only-of-type {\n",
       "        vertical-align: middle;\n",
       "    }\n",
       "\n",
       "    .dataframe tbody tr th {\n",
       "        vertical-align: top;\n",
       "    }\n",
       "\n",
       "    .dataframe thead th {\n",
       "        text-align: right;\n",
       "    }\n",
       "</style>\n",
       "<table border=\"1\" class=\"dataframe\">\n",
       "  <thead>\n",
       "    <tr style=\"text-align: right;\">\n",
       "      <th></th>\n",
       "      <th>Horror</th>\n",
       "      <th>Action</th>\n",
       "      <th>Drama</th>\n",
       "      <th>Western</th>\n",
       "      <th>Foreign</th>\n",
       "      <th>History</th>\n",
       "      <th>War</th>\n",
       "      <th>Comedy</th>\n",
       "      <th>Thriller</th>\n",
       "      <th>Crime</th>\n",
       "      <th>Family</th>\n",
       "      <th>Romance</th>\n",
       "      <th>Science Fiction</th>\n",
       "      <th>Adventure</th>\n",
       "      <th>Fantasy</th>\n",
       "      <th>Music</th>\n",
       "      <th>Mystery</th>\n",
       "      <th>Animation</th>\n",
       "      <th>TV Movie</th>\n",
       "      <th>Documentary</th>\n",
       "    </tr>\n",
       "  </thead>\n",
       "  <tbody>\n",
       "    <tr>\n",
       "      <th>1960</th>\n",
       "      <td>7</td>\n",
       "      <td>8</td>\n",
       "      <td>13</td>\n",
       "      <td>6</td>\n",
       "      <td>1</td>\n",
       "      <td>5</td>\n",
       "      <td>2</td>\n",
       "      <td>8</td>\n",
       "      <td>6</td>\n",
       "      <td>2</td>\n",
       "      <td>3</td>\n",
       "      <td>6</td>\n",
       "      <td>3</td>\n",
       "      <td>5</td>\n",
       "      <td>2</td>\n",
       "      <td>1</td>\n",
       "      <td>0</td>\n",
       "      <td>0</td>\n",
       "      <td>0</td>\n",
       "      <td>0</td>\n",
       "    </tr>\n",
       "    <tr>\n",
       "      <th>1961</th>\n",
       "      <td>3</td>\n",
       "      <td>7</td>\n",
       "      <td>16</td>\n",
       "      <td>3</td>\n",
       "      <td>1</td>\n",
       "      <td>3</td>\n",
       "      <td>2</td>\n",
       "      <td>10</td>\n",
       "      <td>0</td>\n",
       "      <td>2</td>\n",
       "      <td>5</td>\n",
       "      <td>7</td>\n",
       "      <td>4</td>\n",
       "      <td>6</td>\n",
       "      <td>2</td>\n",
       "      <td>2</td>\n",
       "      <td>1</td>\n",
       "      <td>1</td>\n",
       "      <td>0</td>\n",
       "      <td>0</td>\n",
       "    </tr>\n",
       "    <tr>\n",
       "      <th>1962</th>\n",
       "      <td>5</td>\n",
       "      <td>8</td>\n",
       "      <td>21</td>\n",
       "      <td>3</td>\n",
       "      <td>1</td>\n",
       "      <td>4</td>\n",
       "      <td>3</td>\n",
       "      <td>5</td>\n",
       "      <td>7</td>\n",
       "      <td>3</td>\n",
       "      <td>2</td>\n",
       "      <td>5</td>\n",
       "      <td>2</td>\n",
       "      <td>7</td>\n",
       "      <td>1</td>\n",
       "      <td>1</td>\n",
       "      <td>4</td>\n",
       "      <td>0</td>\n",
       "      <td>0</td>\n",
       "      <td>0</td>\n",
       "    </tr>\n",
       "    <tr>\n",
       "      <th>1963</th>\n",
       "      <td>9</td>\n",
       "      <td>4</td>\n",
       "      <td>13</td>\n",
       "      <td>2</td>\n",
       "      <td>2</td>\n",
       "      <td>4</td>\n",
       "      <td>1</td>\n",
       "      <td>13</td>\n",
       "      <td>10</td>\n",
       "      <td>4</td>\n",
       "      <td>3</td>\n",
       "      <td>8</td>\n",
       "      <td>2</td>\n",
       "      <td>7</td>\n",
       "      <td>2</td>\n",
       "      <td>0</td>\n",
       "      <td>6</td>\n",
       "      <td>1</td>\n",
       "      <td>0</td>\n",
       "      <td>0</td>\n",
       "    </tr>\n",
       "    <tr>\n",
       "      <th>1964</th>\n",
       "      <td>6</td>\n",
       "      <td>5</td>\n",
       "      <td>20</td>\n",
       "      <td>1</td>\n",
       "      <td>1</td>\n",
       "      <td>3</td>\n",
       "      <td>3</td>\n",
       "      <td>16</td>\n",
       "      <td>9</td>\n",
       "      <td>10</td>\n",
       "      <td>4</td>\n",
       "      <td>9</td>\n",
       "      <td>4</td>\n",
       "      <td>5</td>\n",
       "      <td>4</td>\n",
       "      <td>5</td>\n",
       "      <td>4</td>\n",
       "      <td>2</td>\n",
       "      <td>0</td>\n",
       "      <td>0</td>\n",
       "    </tr>\n",
       "  </tbody>\n",
       "</table>\n",
       "</div>"
      ],
      "text/plain": [
       "      Horror  Action  Drama  Western  Foreign  History  War  Comedy  Thriller  \\\n",
       "1960       7       8     13        6        1        5    2       8         6   \n",
       "1961       3       7     16        3        1        3    2      10         0   \n",
       "1962       5       8     21        3        1        4    3       5         7   \n",
       "1963       9       4     13        2        2        4    1      13        10   \n",
       "1964       6       5     20        1        1        3    3      16         9   \n",
       "\n",
       "      Crime  Family  Romance  Science Fiction  Adventure  Fantasy  Music  \\\n",
       "1960      2       3        6                3          5        2      1   \n",
       "1961      2       5        7                4          6        2      2   \n",
       "1962      3       2        5                2          7        1      1   \n",
       "1963      4       3        8                2          7        2      0   \n",
       "1964     10       4        9                4          5        4      5   \n",
       "\n",
       "      Mystery  Animation  TV Movie  Documentary  \n",
       "1960        0          0         0            0  \n",
       "1961        1          1         0            0  \n",
       "1962        4          0         0            0  \n",
       "1963        6          1         0            0  \n",
       "1964        4          2         0            0  "
      ]
     },
     "execution_count": 53,
     "metadata": {},
     "output_type": "execute_result"
    }
   ],
   "source": [
    "new_df.head()\n"
   ]
  },
  {
   "cell_type": "markdown",
   "id": "b69c1891",
   "metadata": {},
   "source": [
    "# What this dataframe shows?\n",
    "\n",
    "Let's see first row. If there are n number of movies released in 1960, then entries corresponding to 1960 shows how many times\n",
    "each genre appeared in 1960.\n",
    "Let's see this numerically:"
   ]
  },
  {
   "cell_type": "code",
   "execution_count": 54,
   "id": "619b5d0d",
   "metadata": {},
   "outputs": [
    {
     "data": {
      "text/plain": [
       "78"
      ]
     },
     "execution_count": 54,
     "metadata": {},
     "output_type": "execute_result"
    }
   ],
   "source": [
    "total_occ = new_df.loc[1960].sum()\n",
    "total_occ"
   ]
  },
  {
   "cell_type": "raw",
   "id": "7c3b4261",
   "metadata": {},
   "source": [
    "Total occurrences off all genres(including repetition) = 78"
   ]
  },
  {
   "cell_type": "code",
   "execution_count": 56,
   "id": "167352a1",
   "metadata": {},
   "outputs": [
    {
     "data": {
      "text/plain": [
       "8"
      ]
     },
     "execution_count": 56,
     "metadata": {},
     "output_type": "execute_result"
    }
   ],
   "source": [
    "action_occ = new_df.loc[1960,'Action']\n",
    "action_occ"
   ]
  },
  {
   "cell_type": "markdown",
   "id": "d680a9e3",
   "metadata": {},
   "source": [
    "Action appeared 8 times in 1960.\n",
    "\n"
   ]
  },
  {
   "cell_type": "code",
   "execution_count": 57,
   "id": "51330ff9",
   "metadata": {},
   "outputs": [
    {
     "data": {
      "text/plain": [
       "10.256410256410257"
      ]
     },
     "execution_count": 57,
     "metadata": {},
     "output_type": "execute_result"
    }
   ],
   "source": [
    "action_part = 100*action_occ/total_occ\n",
    "action_part"
   ]
  },
  {
   "cell_type": "markdown",
   "id": "35e3baab",
   "metadata": {},
   "source": [
    "Portion of occurrences showing Action: 10.256\n",
    "Similarly calculating proportions for all genres in this new_df and creating another data frame new_df1 for analyzing year by year genre trends."
   ]
  },
  {
   "cell_type": "code",
   "execution_count": 59,
   "id": "bdcd2918",
   "metadata": {},
   "outputs": [
    {
     "data": {
      "text/plain": [
       "{'Horror': [],\n",
       " 'Action': [],\n",
       " 'Drama': [],\n",
       " 'Western': [],\n",
       " 'Foreign': [],\n",
       " 'History': [],\n",
       " 'War': [],\n",
       " 'Comedy': [],\n",
       " 'Thriller': [],\n",
       " 'Crime': [],\n",
       " 'Family': [],\n",
       " 'Romance': [],\n",
       " 'Science Fiction': [],\n",
       " 'Adventure': [],\n",
       " 'Fantasy': [],\n",
       " 'Music': [],\n",
       " 'Mystery': [],\n",
       " 'Animation': [],\n",
       " 'TV Movie': [],\n",
       " 'Documentary': []}"
      ]
     },
     "execution_count": 59,
     "metadata": {},
     "output_type": "execute_result"
    }
   ],
   "source": [
    "new_df1 = {key:[] for key in unique(df_r1['genres'])}\n",
    "new_df1"
   ]
  },
  {
   "cell_type": "code",
   "execution_count": 60,
   "id": "ed7deec5",
   "metadata": {},
   "outputs": [
    {
     "data": {
      "text/plain": [
       "{'Horror': [],\n",
       " 'Action': [],\n",
       " 'Drama': [],\n",
       " 'Western': [],\n",
       " 'Foreign': [],\n",
       " 'History': [],\n",
       " 'War': [],\n",
       " 'Comedy': [],\n",
       " 'Thriller': [],\n",
       " 'Crime': [],\n",
       " 'Family': [],\n",
       " 'Romance': [],\n",
       " 'Science Fiction': [],\n",
       " 'Adventure': [],\n",
       " 'Fantasy': [],\n",
       " 'Music': [],\n",
       " 'Mystery': [],\n",
       " 'Animation': [],\n",
       " 'TV Movie': [],\n",
       " 'Documentary': [],\n",
       " 'year': array([1960, 1961, 1962, 1963, 1964, 1965, 1966, 1967, 1968, 1969, 1970,\n",
       "        1971, 1972, 1973, 1974, 1975, 1976, 1977, 1978, 1979, 1980, 1981,\n",
       "        1982, 1983, 1984, 1985, 1986, 1987, 1988, 1989, 1990, 1991, 1992,\n",
       "        1993, 1994, 1995, 1996, 1997, 1998, 1999, 2000, 2001, 2002, 2003,\n",
       "        2004, 2005, 2006, 2007, 2008, 2009, 2010, 2011, 2012, 2013, 2014,\n",
       "        2015], dtype=int64)}"
      ]
     },
     "execution_count": 60,
     "metadata": {},
     "output_type": "execute_result"
    }
   ],
   "source": [
    "new_df1['year'] = year\n",
    "new_df1"
   ]
  },
  {
   "cell_type": "code",
   "execution_count": 61,
   "id": "22bd17e7",
   "metadata": {},
   "outputs": [],
   "source": [
    "for index,row in new_df.iterrows():\n",
    "    for genre in list(new_df.columns):\n",
    "        new_df1[genre].append((100*row[genre]/sum(row)))"
   ]
  },
  {
   "cell_type": "markdown",
   "id": "e6cfe01c",
   "metadata": {},
   "source": [
    "Converting to data frame:"
   ]
  },
  {
   "cell_type": "code",
   "execution_count": 62,
   "id": "da5edab4",
   "metadata": {},
   "outputs": [
    {
     "data": {
      "text/html": [
       "<div>\n",
       "<style scoped>\n",
       "    .dataframe tbody tr th:only-of-type {\n",
       "        vertical-align: middle;\n",
       "    }\n",
       "\n",
       "    .dataframe tbody tr th {\n",
       "        vertical-align: top;\n",
       "    }\n",
       "\n",
       "    .dataframe thead th {\n",
       "        text-align: right;\n",
       "    }\n",
       "</style>\n",
       "<table border=\"1\" class=\"dataframe\">\n",
       "  <thead>\n",
       "    <tr style=\"text-align: right;\">\n",
       "      <th></th>\n",
       "      <th>Horror</th>\n",
       "      <th>Action</th>\n",
       "      <th>Drama</th>\n",
       "      <th>Western</th>\n",
       "      <th>Foreign</th>\n",
       "      <th>History</th>\n",
       "      <th>War</th>\n",
       "      <th>Comedy</th>\n",
       "      <th>Thriller</th>\n",
       "      <th>Crime</th>\n",
       "      <th>...</th>\n",
       "      <th>Romance</th>\n",
       "      <th>Science Fiction</th>\n",
       "      <th>Adventure</th>\n",
       "      <th>Fantasy</th>\n",
       "      <th>Music</th>\n",
       "      <th>Mystery</th>\n",
       "      <th>Animation</th>\n",
       "      <th>TV Movie</th>\n",
       "      <th>Documentary</th>\n",
       "      <th>year</th>\n",
       "    </tr>\n",
       "  </thead>\n",
       "  <tbody>\n",
       "    <tr>\n",
       "      <th>0</th>\n",
       "      <td>8.974359</td>\n",
       "      <td>10.256410</td>\n",
       "      <td>16.666667</td>\n",
       "      <td>7.692308</td>\n",
       "      <td>1.282051</td>\n",
       "      <td>6.410256</td>\n",
       "      <td>2.564103</td>\n",
       "      <td>10.256410</td>\n",
       "      <td>7.692308</td>\n",
       "      <td>2.564103</td>\n",
       "      <td>...</td>\n",
       "      <td>7.692308</td>\n",
       "      <td>3.846154</td>\n",
       "      <td>6.410256</td>\n",
       "      <td>2.564103</td>\n",
       "      <td>1.282051</td>\n",
       "      <td>0.000000</td>\n",
       "      <td>0.000000</td>\n",
       "      <td>0.0</td>\n",
       "      <td>0.0</td>\n",
       "      <td>1960</td>\n",
       "    </tr>\n",
       "    <tr>\n",
       "      <th>1</th>\n",
       "      <td>4.000000</td>\n",
       "      <td>9.333333</td>\n",
       "      <td>21.333333</td>\n",
       "      <td>4.000000</td>\n",
       "      <td>1.333333</td>\n",
       "      <td>4.000000</td>\n",
       "      <td>2.666667</td>\n",
       "      <td>13.333333</td>\n",
       "      <td>0.000000</td>\n",
       "      <td>2.666667</td>\n",
       "      <td>...</td>\n",
       "      <td>9.333333</td>\n",
       "      <td>5.333333</td>\n",
       "      <td>8.000000</td>\n",
       "      <td>2.666667</td>\n",
       "      <td>2.666667</td>\n",
       "      <td>1.333333</td>\n",
       "      <td>1.333333</td>\n",
       "      <td>0.0</td>\n",
       "      <td>0.0</td>\n",
       "      <td>1961</td>\n",
       "    </tr>\n",
       "    <tr>\n",
       "      <th>2</th>\n",
       "      <td>6.097561</td>\n",
       "      <td>9.756098</td>\n",
       "      <td>25.609756</td>\n",
       "      <td>3.658537</td>\n",
       "      <td>1.219512</td>\n",
       "      <td>4.878049</td>\n",
       "      <td>3.658537</td>\n",
       "      <td>6.097561</td>\n",
       "      <td>8.536585</td>\n",
       "      <td>3.658537</td>\n",
       "      <td>...</td>\n",
       "      <td>6.097561</td>\n",
       "      <td>2.439024</td>\n",
       "      <td>8.536585</td>\n",
       "      <td>1.219512</td>\n",
       "      <td>1.219512</td>\n",
       "      <td>4.878049</td>\n",
       "      <td>0.000000</td>\n",
       "      <td>0.0</td>\n",
       "      <td>0.0</td>\n",
       "      <td>1962</td>\n",
       "    </tr>\n",
       "    <tr>\n",
       "      <th>3</th>\n",
       "      <td>9.890110</td>\n",
       "      <td>4.395604</td>\n",
       "      <td>14.285714</td>\n",
       "      <td>2.197802</td>\n",
       "      <td>2.197802</td>\n",
       "      <td>4.395604</td>\n",
       "      <td>1.098901</td>\n",
       "      <td>14.285714</td>\n",
       "      <td>10.989011</td>\n",
       "      <td>4.395604</td>\n",
       "      <td>...</td>\n",
       "      <td>8.791209</td>\n",
       "      <td>2.197802</td>\n",
       "      <td>7.692308</td>\n",
       "      <td>2.197802</td>\n",
       "      <td>0.000000</td>\n",
       "      <td>6.593407</td>\n",
       "      <td>1.098901</td>\n",
       "      <td>0.0</td>\n",
       "      <td>0.0</td>\n",
       "      <td>1963</td>\n",
       "    </tr>\n",
       "    <tr>\n",
       "      <th>4</th>\n",
       "      <td>5.405405</td>\n",
       "      <td>4.504505</td>\n",
       "      <td>18.018018</td>\n",
       "      <td>0.900901</td>\n",
       "      <td>0.900901</td>\n",
       "      <td>2.702703</td>\n",
       "      <td>2.702703</td>\n",
       "      <td>14.414414</td>\n",
       "      <td>8.108108</td>\n",
       "      <td>9.009009</td>\n",
       "      <td>...</td>\n",
       "      <td>8.108108</td>\n",
       "      <td>3.603604</td>\n",
       "      <td>4.504505</td>\n",
       "      <td>3.603604</td>\n",
       "      <td>4.504505</td>\n",
       "      <td>3.603604</td>\n",
       "      <td>1.801802</td>\n",
       "      <td>0.0</td>\n",
       "      <td>0.0</td>\n",
       "      <td>1964</td>\n",
       "    </tr>\n",
       "  </tbody>\n",
       "</table>\n",
       "<p>5 rows × 21 columns</p>\n",
       "</div>"
      ],
      "text/plain": [
       "     Horror     Action      Drama   Western   Foreign   History       War  \\\n",
       "0  8.974359  10.256410  16.666667  7.692308  1.282051  6.410256  2.564103   \n",
       "1  4.000000   9.333333  21.333333  4.000000  1.333333  4.000000  2.666667   \n",
       "2  6.097561   9.756098  25.609756  3.658537  1.219512  4.878049  3.658537   \n",
       "3  9.890110   4.395604  14.285714  2.197802  2.197802  4.395604  1.098901   \n",
       "4  5.405405   4.504505  18.018018  0.900901  0.900901  2.702703  2.702703   \n",
       "\n",
       "      Comedy   Thriller     Crime  ...   Romance  Science Fiction  Adventure  \\\n",
       "0  10.256410   7.692308  2.564103  ...  7.692308         3.846154   6.410256   \n",
       "1  13.333333   0.000000  2.666667  ...  9.333333         5.333333   8.000000   \n",
       "2   6.097561   8.536585  3.658537  ...  6.097561         2.439024   8.536585   \n",
       "3  14.285714  10.989011  4.395604  ...  8.791209         2.197802   7.692308   \n",
       "4  14.414414   8.108108  9.009009  ...  8.108108         3.603604   4.504505   \n",
       "\n",
       "    Fantasy     Music   Mystery  Animation  TV Movie  Documentary  year  \n",
       "0  2.564103  1.282051  0.000000   0.000000       0.0          0.0  1960  \n",
       "1  2.666667  2.666667  1.333333   1.333333       0.0          0.0  1961  \n",
       "2  1.219512  1.219512  4.878049   0.000000       0.0          0.0  1962  \n",
       "3  2.197802  0.000000  6.593407   1.098901       0.0          0.0  1963  \n",
       "4  3.603604  4.504505  3.603604   1.801802       0.0          0.0  1964  \n",
       "\n",
       "[5 rows x 21 columns]"
      ]
     },
     "execution_count": 62,
     "metadata": {},
     "output_type": "execute_result"
    }
   ],
   "source": [
    "new_df1 = pd.DataFrame(new_df1)\n",
    "new_df1.head(5)"
   ]
  },
  {
   "cell_type": "markdown",
   "id": "529b1eba",
   "metadata": {},
   "source": [
    "Moving new_df['year'] to first place:"
   ]
  },
  {
   "cell_type": "code",
   "execution_count": 63,
   "id": "837563ff",
   "metadata": {},
   "outputs": [
    {
     "data": {
      "text/plain": [
       "Index(['year', 'Horror', 'Action', 'Drama', 'Western', 'Foreign', 'History',\n",
       "       'War', 'Comedy', 'Thriller', 'Crime', 'Family', 'Romance',\n",
       "       'Science Fiction', 'Adventure', 'Fantasy', 'Music', 'Mystery',\n",
       "       'Animation', 'TV Movie', 'Documentary'],\n",
       "      dtype='object')"
      ]
     },
     "execution_count": 63,
     "metadata": {},
     "output_type": "execute_result"
    }
   ],
   "source": [
    "cols = new_df1.columns.tolist()\n",
    "cols = cols[-1:] + cols[:-1]\n",
    "new_df1 = new_df1[cols]\n",
    "new_df1.columns"
   ]
  },
  {
   "cell_type": "code",
   "execution_count": 64,
   "id": "89f96548",
   "metadata": {},
   "outputs": [
    {
     "data": {
      "text/html": [
       "<div>\n",
       "<style scoped>\n",
       "    .dataframe tbody tr th:only-of-type {\n",
       "        vertical-align: middle;\n",
       "    }\n",
       "\n",
       "    .dataframe tbody tr th {\n",
       "        vertical-align: top;\n",
       "    }\n",
       "\n",
       "    .dataframe thead th {\n",
       "        text-align: right;\n",
       "    }\n",
       "</style>\n",
       "<table border=\"1\" class=\"dataframe\">\n",
       "  <thead>\n",
       "    <tr style=\"text-align: right;\">\n",
       "      <th></th>\n",
       "      <th>year</th>\n",
       "      <th>Horror</th>\n",
       "      <th>Action</th>\n",
       "      <th>Drama</th>\n",
       "      <th>Western</th>\n",
       "      <th>Foreign</th>\n",
       "      <th>History</th>\n",
       "      <th>War</th>\n",
       "      <th>Comedy</th>\n",
       "      <th>Thriller</th>\n",
       "      <th>...</th>\n",
       "      <th>Family</th>\n",
       "      <th>Romance</th>\n",
       "      <th>Science Fiction</th>\n",
       "      <th>Adventure</th>\n",
       "      <th>Fantasy</th>\n",
       "      <th>Music</th>\n",
       "      <th>Mystery</th>\n",
       "      <th>Animation</th>\n",
       "      <th>TV Movie</th>\n",
       "      <th>Documentary</th>\n",
       "    </tr>\n",
       "  </thead>\n",
       "  <tbody>\n",
       "    <tr>\n",
       "      <th>0</th>\n",
       "      <td>1960</td>\n",
       "      <td>8.974359</td>\n",
       "      <td>10.256410</td>\n",
       "      <td>16.666667</td>\n",
       "      <td>7.692308</td>\n",
       "      <td>1.282051</td>\n",
       "      <td>6.410256</td>\n",
       "      <td>2.564103</td>\n",
       "      <td>10.256410</td>\n",
       "      <td>7.692308</td>\n",
       "      <td>...</td>\n",
       "      <td>3.846154</td>\n",
       "      <td>7.692308</td>\n",
       "      <td>3.846154</td>\n",
       "      <td>6.410256</td>\n",
       "      <td>2.564103</td>\n",
       "      <td>1.282051</td>\n",
       "      <td>0.000000</td>\n",
       "      <td>0.000000</td>\n",
       "      <td>0.0</td>\n",
       "      <td>0.0</td>\n",
       "    </tr>\n",
       "    <tr>\n",
       "      <th>1</th>\n",
       "      <td>1961</td>\n",
       "      <td>4.000000</td>\n",
       "      <td>9.333333</td>\n",
       "      <td>21.333333</td>\n",
       "      <td>4.000000</td>\n",
       "      <td>1.333333</td>\n",
       "      <td>4.000000</td>\n",
       "      <td>2.666667</td>\n",
       "      <td>13.333333</td>\n",
       "      <td>0.000000</td>\n",
       "      <td>...</td>\n",
       "      <td>6.666667</td>\n",
       "      <td>9.333333</td>\n",
       "      <td>5.333333</td>\n",
       "      <td>8.000000</td>\n",
       "      <td>2.666667</td>\n",
       "      <td>2.666667</td>\n",
       "      <td>1.333333</td>\n",
       "      <td>1.333333</td>\n",
       "      <td>0.0</td>\n",
       "      <td>0.0</td>\n",
       "    </tr>\n",
       "    <tr>\n",
       "      <th>2</th>\n",
       "      <td>1962</td>\n",
       "      <td>6.097561</td>\n",
       "      <td>9.756098</td>\n",
       "      <td>25.609756</td>\n",
       "      <td>3.658537</td>\n",
       "      <td>1.219512</td>\n",
       "      <td>4.878049</td>\n",
       "      <td>3.658537</td>\n",
       "      <td>6.097561</td>\n",
       "      <td>8.536585</td>\n",
       "      <td>...</td>\n",
       "      <td>2.439024</td>\n",
       "      <td>6.097561</td>\n",
       "      <td>2.439024</td>\n",
       "      <td>8.536585</td>\n",
       "      <td>1.219512</td>\n",
       "      <td>1.219512</td>\n",
       "      <td>4.878049</td>\n",
       "      <td>0.000000</td>\n",
       "      <td>0.0</td>\n",
       "      <td>0.0</td>\n",
       "    </tr>\n",
       "    <tr>\n",
       "      <th>3</th>\n",
       "      <td>1963</td>\n",
       "      <td>9.890110</td>\n",
       "      <td>4.395604</td>\n",
       "      <td>14.285714</td>\n",
       "      <td>2.197802</td>\n",
       "      <td>2.197802</td>\n",
       "      <td>4.395604</td>\n",
       "      <td>1.098901</td>\n",
       "      <td>14.285714</td>\n",
       "      <td>10.989011</td>\n",
       "      <td>...</td>\n",
       "      <td>3.296703</td>\n",
       "      <td>8.791209</td>\n",
       "      <td>2.197802</td>\n",
       "      <td>7.692308</td>\n",
       "      <td>2.197802</td>\n",
       "      <td>0.000000</td>\n",
       "      <td>6.593407</td>\n",
       "      <td>1.098901</td>\n",
       "      <td>0.0</td>\n",
       "      <td>0.0</td>\n",
       "    </tr>\n",
       "    <tr>\n",
       "      <th>4</th>\n",
       "      <td>1964</td>\n",
       "      <td>5.405405</td>\n",
       "      <td>4.504505</td>\n",
       "      <td>18.018018</td>\n",
       "      <td>0.900901</td>\n",
       "      <td>0.900901</td>\n",
       "      <td>2.702703</td>\n",
       "      <td>2.702703</td>\n",
       "      <td>14.414414</td>\n",
       "      <td>8.108108</td>\n",
       "      <td>...</td>\n",
       "      <td>3.603604</td>\n",
       "      <td>8.108108</td>\n",
       "      <td>3.603604</td>\n",
       "      <td>4.504505</td>\n",
       "      <td>3.603604</td>\n",
       "      <td>4.504505</td>\n",
       "      <td>3.603604</td>\n",
       "      <td>1.801802</td>\n",
       "      <td>0.0</td>\n",
       "      <td>0.0</td>\n",
       "    </tr>\n",
       "  </tbody>\n",
       "</table>\n",
       "<p>5 rows × 21 columns</p>\n",
       "</div>"
      ],
      "text/plain": [
       "   year    Horror     Action      Drama   Western   Foreign   History  \\\n",
       "0  1960  8.974359  10.256410  16.666667  7.692308  1.282051  6.410256   \n",
       "1  1961  4.000000   9.333333  21.333333  4.000000  1.333333  4.000000   \n",
       "2  1962  6.097561   9.756098  25.609756  3.658537  1.219512  4.878049   \n",
       "3  1963  9.890110   4.395604  14.285714  2.197802  2.197802  4.395604   \n",
       "4  1964  5.405405   4.504505  18.018018  0.900901  0.900901  2.702703   \n",
       "\n",
       "        War     Comedy   Thriller  ...    Family   Romance  Science Fiction  \\\n",
       "0  2.564103  10.256410   7.692308  ...  3.846154  7.692308         3.846154   \n",
       "1  2.666667  13.333333   0.000000  ...  6.666667  9.333333         5.333333   \n",
       "2  3.658537   6.097561   8.536585  ...  2.439024  6.097561         2.439024   \n",
       "3  1.098901  14.285714  10.989011  ...  3.296703  8.791209         2.197802   \n",
       "4  2.702703  14.414414   8.108108  ...  3.603604  8.108108         3.603604   \n",
       "\n",
       "   Adventure   Fantasy     Music   Mystery  Animation  TV Movie  Documentary  \n",
       "0   6.410256  2.564103  1.282051  0.000000   0.000000       0.0          0.0  \n",
       "1   8.000000  2.666667  2.666667  1.333333   1.333333       0.0          0.0  \n",
       "2   8.536585  1.219512  1.219512  4.878049   0.000000       0.0          0.0  \n",
       "3   7.692308  2.197802  0.000000  6.593407   1.098901       0.0          0.0  \n",
       "4   4.504505  3.603604  4.504505  3.603604   1.801802       0.0          0.0  \n",
       "\n",
       "[5 rows x 21 columns]"
      ]
     },
     "execution_count": 64,
     "metadata": {},
     "output_type": "execute_result"
    }
   ],
   "source": [
    "new_df1.head()\n"
   ]
  },
  {
   "cell_type": "markdown",
   "id": "663b5572",
   "metadata": {},
   "source": [
    "Now visualising trends for each genre. I will use the same function to get a list of unique genres:"
   ]
  },
  {
   "cell_type": "code",
   "execution_count": 141,
   "id": "d2976df6",
   "metadata": {},
   "outputs": [
    {
     "data": {
      "text/plain": [
       "Text(0, 0.5, 'genre')"
      ]
     },
     "execution_count": 141,
     "metadata": {},
     "output_type": "execute_result"
    },
    {
     "data": {
      "image/png": "[encoded data removed]",
      "text/plain": [
       "<Figure size 432x288 with 1 Axes>"
      ]
     },
     "metadata": {
      "needs_background": "light"
     },
     "output_type": "display_data"
    }
   ],
   "source": [
    "for genre in unique(df['genres']):\n",
    "    plt.scatter(y = new_df1[genre], x = new_df1['year']);\n",
    "#     plt.legend()\n",
    "\n",
    "font1 = {'family':'serif','color':'blue','size':20}\n",
    "font2 = {'family':'serif','color':'darkred','size':12}\n",
    "\n",
    "plt.title(\"Year vs genre\", fontdict = font1)\n",
    "plt.xlabel(\"Year\", fontdict = font2)\n",
    "plt.ylabel(\"genre\", fontdict = font2)\n"
   ]
  },
  {
   "cell_type": "markdown",
   "id": "e4f607e5",
   "metadata": {},
   "source": [
    "This graph looks very messy. Let's see the mean value of occurrence for each genre:"
   ]
  },
  {
   "cell_type": "code",
   "execution_count": 66,
   "id": "e372f1a1",
   "metadata": {},
   "outputs": [
    {
     "data": {
      "text/plain": [
       "{'Horror': 6.1818010746638175,\n",
       " 'Action': 9.182841947309699,\n",
       " 'Drama': 17.619061813680453,\n",
       " 'Western': 1.5570791594773028,\n",
       " 'Foreign': 0.6238363396628035,\n",
       " 'History': 1.6829865578705407,\n",
       " 'War': 1.5115212996926917,\n",
       " 'Comedy': 13.365996728567213,\n",
       " 'Thriller': 10.042593415974055,\n",
       " 'Crime': 5.355598567149161,\n",
       " 'Family': 4.236932155904937,\n",
       " 'Romance': 6.29171690215945,\n",
       " 'Science Fiction': 4.796821514598795,\n",
       " 'Adventure': 5.977938938496693,\n",
       " 'Fantasy': 3.2695122162267056,\n",
       " 'Music': 1.6829654289355405,\n",
       " 'Mystery': 3.274973642951846,\n",
       " 'Animation': 1.8724954892280656,\n",
       " 'TV Movie': 0.4716258804660151,\n",
       " 'Documentary': 1.0017009269842234}"
      ]
     },
     "execution_count": 66,
     "metadata": {},
     "output_type": "execute_result"
    }
   ],
   "source": [
    "mean = {}\n",
    "for _ in new_df1.columns[1:]: # coz firt row is year column\n",
    "    mean[_] = np.mean(new_df1[_])\n",
    "mean"
   ]
  },
  {
   "cell_type": "markdown",
   "id": "d61c2f19",
   "metadata": {},
   "source": [
    "I am dropping all the genres except the top 5 ones."
   ]
  },
  {
   "cell_type": "code",
   "execution_count": 67,
   "id": "645a3a8f",
   "metadata": {},
   "outputs": [
    {
     "data": {
      "text/plain": [
       "[17.619061813680453,\n",
       " 13.365996728567213,\n",
       " 10.042593415974055,\n",
       " 9.182841947309699,\n",
       " 6.29171690215945]"
      ]
     },
     "execution_count": 67,
     "metadata": {},
     "output_type": "execute_result"
    }
   ],
   "source": [
    "top_5 = []\n",
    "for _ in new_df1.columns[1:]:\n",
    "    top_5.append(np.mean(new_df1[_]))\n",
    "    top_5.sort(reverse = True)\n",
    "top_5[:5]"
   ]
  },
  {
   "cell_type": "markdown",
   "id": "97ea6dc4",
   "metadata": {},
   "source": [
    "These top 5 mean values are for Drama, Comedy, Thriller, Action, Romance. Now, visualising trends only for these genres:"
   ]
  },
  {
   "cell_type": "code",
   "execution_count": 140,
   "id": "9500222a",
   "metadata": {
    "scrolled": true
   },
   "outputs": [
    {
     "data": {
      "text/plain": [
       "Text(0, 0.5, 'genre')"
      ]
     },
     "execution_count": 140,
     "metadata": {},
     "output_type": "execute_result"
    },
    {
     "data": {
      "image/png": "[encoded data removed]",
      "text/plain": [
       "<Figure size 432x288 with 1 Axes>"
      ]
     },
     "metadata": {
      "needs_background": "light"
     },
     "output_type": "display_data"
    }
   ],
   "source": [
    "import seaborn as sns\n",
    "g = ['Drama','Comedy','Thriller','Action','Romance']\n",
    "for genre in g:\n",
    "    plot = sns.regplot(y = new_df1[genre], x = new_df1['year'], lowess = True);\n",
    "plot.set_ylabel(\"\");\n",
    "plot.axvline(x = 1974, color = 'black', alpha = 0.7);\n",
    "\n",
    "font1 = {'family':'serif','color':'blue','size':20}\n",
    "font2 = {'family':'serif','color':'darkred','size':12}\n",
    "\n",
    "plt.title(\"Year vs Top 5 genre\", fontdict = font1)\n",
    "plt.xlabel(\"Year\", fontdict = font2)\n",
    "plt.ylabel(\"genre\", fontdict = font2)"
   ]
  },
  {
   "cell_type": "markdown",
   "id": "b2d3fedd",
   "metadata": {},
   "source": [
    "# Question 2: What types of properties are associated with high income films?"
   ]
  },
  {
   "cell_type": "code",
   "execution_count": 70,
   "id": "01124bb4",
   "metadata": {},
   "outputs": [
    {
     "data": {
      "text/html": [
       "<div>\n",
       "<style scoped>\n",
       "    .dataframe tbody tr th:only-of-type {\n",
       "        vertical-align: middle;\n",
       "    }\n",
       "\n",
       "    .dataframe tbody tr th {\n",
       "        vertical-align: top;\n",
       "    }\n",
       "\n",
       "    .dataframe thead th {\n",
       "        text-align: right;\n",
       "    }\n",
       "</style>\n",
       "<table border=\"1\" class=\"dataframe\">\n",
       "  <thead>\n",
       "    <tr style=\"text-align: right;\">\n",
       "      <th></th>\n",
       "      <th>popularity</th>\n",
       "      <th>budget</th>\n",
       "      <th>revenue</th>\n",
       "      <th>cast</th>\n",
       "      <th>director</th>\n",
       "      <th>runtime</th>\n",
       "      <th>genres</th>\n",
       "      <th>release_date</th>\n",
       "      <th>vote_count</th>\n",
       "      <th>vote_average</th>\n",
       "      <th>release_year</th>\n",
       "      <th>budget_adj</th>\n",
       "      <th>revenue_adj</th>\n",
       "    </tr>\n",
       "  </thead>\n",
       "  <tbody>\n",
       "    <tr>\n",
       "      <th>10152</th>\n",
       "      <td>0.333643</td>\n",
       "      <td>0</td>\n",
       "      <td>0</td>\n",
       "      <td>Peter Cushing|Martita Hunt|Yvonne Monlaur|Fred...</td>\n",
       "      <td>Terence Fisher</td>\n",
       "      <td>85</td>\n",
       "      <td>Horror</td>\n",
       "      <td>1960-01-02</td>\n",
       "      <td>19</td>\n",
       "      <td>6.6</td>\n",
       "      <td>1960</td>\n",
       "      <td>0.0</td>\n",
       "      <td>0.0</td>\n",
       "    </tr>\n",
       "    <tr>\n",
       "      <th>10150</th>\n",
       "      <td>0.421043</td>\n",
       "      <td>0</td>\n",
       "      <td>0</td>\n",
       "      <td>Burt Lancaster|Audrey Hepburn|Audie Murphy|Joh...</td>\n",
       "      <td>John Huston</td>\n",
       "      <td>125</td>\n",
       "      <td>Action|Drama|Western</td>\n",
       "      <td>1960-01-02</td>\n",
       "      <td>17</td>\n",
       "      <td>4.9</td>\n",
       "      <td>1960</td>\n",
       "      <td>0.0</td>\n",
       "      <td>0.0</td>\n",
       "    </tr>\n",
       "    <tr>\n",
       "      <th>10162</th>\n",
       "      <td>0.194948</td>\n",
       "      <td>0</td>\n",
       "      <td>0</td>\n",
       "      <td>Kenneth More|Dana Wynter|Carl MÃ¶hner|Laurence...</td>\n",
       "      <td>Lewis Gilbert</td>\n",
       "      <td>97</td>\n",
       "      <td>Action|Drama|Foreign|History|War</td>\n",
       "      <td>1960-02-12</td>\n",
       "      <td>12</td>\n",
       "      <td>4.9</td>\n",
       "      <td>1960</td>\n",
       "      <td>0.0</td>\n",
       "      <td>0.0</td>\n",
       "    </tr>\n",
       "    <tr>\n",
       "      <th>10166</th>\n",
       "      <td>0.136525</td>\n",
       "      <td>0</td>\n",
       "      <td>0</td>\n",
       "      <td>Kenneth Connor|Charles Hawtrey|Sid James|Kenne...</td>\n",
       "      <td>Gerald Thomas</td>\n",
       "      <td>86</td>\n",
       "      <td>Comedy</td>\n",
       "      <td>1960-02-23</td>\n",
       "      <td>10</td>\n",
       "      <td>6.0</td>\n",
       "      <td>1960</td>\n",
       "      <td>0.0</td>\n",
       "      <td>0.0</td>\n",
       "    </tr>\n",
       "    <tr>\n",
       "      <th>10156</th>\n",
       "      <td>0.267118</td>\n",
       "      <td>0</td>\n",
       "      <td>0</td>\n",
       "      <td>Randolph Scott|Nancy Gates|Skip Homeier|Dyke J...</td>\n",
       "      <td>Budd Boetticher</td>\n",
       "      <td>73</td>\n",
       "      <td>Action|Western</td>\n",
       "      <td>1960-03-02</td>\n",
       "      <td>12</td>\n",
       "      <td>6.5</td>\n",
       "      <td>1960</td>\n",
       "      <td>0.0</td>\n",
       "      <td>0.0</td>\n",
       "    </tr>\n",
       "  </tbody>\n",
       "</table>\n",
       "</div>"
      ],
      "text/plain": [
       "       popularity  budget  revenue  \\\n",
       "10152    0.333643       0        0   \n",
       "10150    0.421043       0        0   \n",
       "10162    0.194948       0        0   \n",
       "10166    0.136525       0        0   \n",
       "10156    0.267118       0        0   \n",
       "\n",
       "                                                    cast         director  \\\n",
       "10152  Peter Cushing|Martita Hunt|Yvonne Monlaur|Fred...   Terence Fisher   \n",
       "10150  Burt Lancaster|Audrey Hepburn|Audie Murphy|Joh...      John Huston   \n",
       "10162  Kenneth More|Dana Wynter|Carl MÃ¶hner|Laurence...    Lewis Gilbert   \n",
       "10166  Kenneth Connor|Charles Hawtrey|Sid James|Kenne...    Gerald Thomas   \n",
       "10156  Randolph Scott|Nancy Gates|Skip Homeier|Dyke J...  Budd Boetticher   \n",
       "\n",
       "       runtime                            genres release_date  vote_count  \\\n",
       "10152       85                            Horror   1960-01-02          19   \n",
       "10150      125              Action|Drama|Western   1960-01-02          17   \n",
       "10162       97  Action|Drama|Foreign|History|War   1960-02-12          12   \n",
       "10166       86                            Comedy   1960-02-23          10   \n",
       "10156       73                    Action|Western   1960-03-02          12   \n",
       "\n",
       "       vote_average  release_year  budget_adj  revenue_adj  \n",
       "10152           6.6          1960         0.0          0.0  \n",
       "10150           4.9          1960         0.0          0.0  \n",
       "10162           4.9          1960         0.0          0.0  \n",
       "10166           6.0          1960         0.0          0.0  \n",
       "10156           6.5          1960         0.0          0.0  "
      ]
     },
     "execution_count": 70,
     "metadata": {},
     "output_type": "execute_result"
    }
   ],
   "source": [
    "df.head()\n"
   ]
  },
  {
   "cell_type": "markdown",
   "id": "4f3d4112",
   "metadata": {},
   "source": [
    "Taking inflation into account. Removing budget and revenue columns:"
   ]
  },
  {
   "cell_type": "code",
   "execution_count": 71,
   "id": "6112a423",
   "metadata": {},
   "outputs": [],
   "source": [
    "df.drop(['revenue', 'budget'], axis = 1, inplace = True)\n"
   ]
  },
  {
   "cell_type": "code",
   "execution_count": 73,
   "id": "8854aa58",
   "metadata": {},
   "outputs": [
    {
     "data": {
      "text/html": [
       "<div>\n",
       "<style scoped>\n",
       "    .dataframe tbody tr th:only-of-type {\n",
       "        vertical-align: middle;\n",
       "    }\n",
       "\n",
       "    .dataframe tbody tr th {\n",
       "        vertical-align: top;\n",
       "    }\n",
       "\n",
       "    .dataframe thead th {\n",
       "        text-align: right;\n",
       "    }\n",
       "</style>\n",
       "<table border=\"1\" class=\"dataframe\">\n",
       "  <thead>\n",
       "    <tr style=\"text-align: right;\">\n",
       "      <th></th>\n",
       "      <th>popularity</th>\n",
       "      <th>cast</th>\n",
       "      <th>director</th>\n",
       "      <th>runtime</th>\n",
       "      <th>genres</th>\n",
       "      <th>release_date</th>\n",
       "      <th>vote_count</th>\n",
       "      <th>vote_average</th>\n",
       "      <th>release_year</th>\n",
       "      <th>budget_adj</th>\n",
       "      <th>revenue_adj</th>\n",
       "    </tr>\n",
       "  </thead>\n",
       "  <tbody>\n",
       "    <tr>\n",
       "      <th>10152</th>\n",
       "      <td>0.333643</td>\n",
       "      <td>Peter Cushing|Martita Hunt|Yvonne Monlaur|Fred...</td>\n",
       "      <td>Terence Fisher</td>\n",
       "      <td>85</td>\n",
       "      <td>Horror</td>\n",
       "      <td>1960-01-02</td>\n",
       "      <td>19</td>\n",
       "      <td>6.6</td>\n",
       "      <td>1960</td>\n",
       "      <td>0.0</td>\n",
       "      <td>0.0</td>\n",
       "    </tr>\n",
       "    <tr>\n",
       "      <th>10150</th>\n",
       "      <td>0.421043</td>\n",
       "      <td>Burt Lancaster|Audrey Hepburn|Audie Murphy|Joh...</td>\n",
       "      <td>John Huston</td>\n",
       "      <td>125</td>\n",
       "      <td>Action|Drama|Western</td>\n",
       "      <td>1960-01-02</td>\n",
       "      <td>17</td>\n",
       "      <td>4.9</td>\n",
       "      <td>1960</td>\n",
       "      <td>0.0</td>\n",
       "      <td>0.0</td>\n",
       "    </tr>\n",
       "    <tr>\n",
       "      <th>10162</th>\n",
       "      <td>0.194948</td>\n",
       "      <td>Kenneth More|Dana Wynter|Carl MÃ¶hner|Laurence...</td>\n",
       "      <td>Lewis Gilbert</td>\n",
       "      <td>97</td>\n",
       "      <td>Action|Drama|Foreign|History|War</td>\n",
       "      <td>1960-02-12</td>\n",
       "      <td>12</td>\n",
       "      <td>4.9</td>\n",
       "      <td>1960</td>\n",
       "      <td>0.0</td>\n",
       "      <td>0.0</td>\n",
       "    </tr>\n",
       "    <tr>\n",
       "      <th>10166</th>\n",
       "      <td>0.136525</td>\n",
       "      <td>Kenneth Connor|Charles Hawtrey|Sid James|Kenne...</td>\n",
       "      <td>Gerald Thomas</td>\n",
       "      <td>86</td>\n",
       "      <td>Comedy</td>\n",
       "      <td>1960-02-23</td>\n",
       "      <td>10</td>\n",
       "      <td>6.0</td>\n",
       "      <td>1960</td>\n",
       "      <td>0.0</td>\n",
       "      <td>0.0</td>\n",
       "    </tr>\n",
       "    <tr>\n",
       "      <th>10156</th>\n",
       "      <td>0.267118</td>\n",
       "      <td>Randolph Scott|Nancy Gates|Skip Homeier|Dyke J...</td>\n",
       "      <td>Budd Boetticher</td>\n",
       "      <td>73</td>\n",
       "      <td>Action|Western</td>\n",
       "      <td>1960-03-02</td>\n",
       "      <td>12</td>\n",
       "      <td>6.5</td>\n",
       "      <td>1960</td>\n",
       "      <td>0.0</td>\n",
       "      <td>0.0</td>\n",
       "    </tr>\n",
       "  </tbody>\n",
       "</table>\n",
       "</div>"
      ],
      "text/plain": [
       "       popularity                                               cast  \\\n",
       "10152    0.333643  Peter Cushing|Martita Hunt|Yvonne Monlaur|Fred...   \n",
       "10150    0.421043  Burt Lancaster|Audrey Hepburn|Audie Murphy|Joh...   \n",
       "10162    0.194948  Kenneth More|Dana Wynter|Carl MÃ¶hner|Laurence...   \n",
       "10166    0.136525  Kenneth Connor|Charles Hawtrey|Sid James|Kenne...   \n",
       "10156    0.267118  Randolph Scott|Nancy Gates|Skip Homeier|Dyke J...   \n",
       "\n",
       "              director  runtime                            genres  \\\n",
       "10152   Terence Fisher       85                            Horror   \n",
       "10150      John Huston      125              Action|Drama|Western   \n",
       "10162    Lewis Gilbert       97  Action|Drama|Foreign|History|War   \n",
       "10166    Gerald Thomas       86                            Comedy   \n",
       "10156  Budd Boetticher       73                    Action|Western   \n",
       "\n",
       "      release_date  vote_count  vote_average  release_year  budget_adj  \\\n",
       "10152   1960-01-02          19           6.6          1960         0.0   \n",
       "10150   1960-01-02          17           4.9          1960         0.0   \n",
       "10162   1960-02-12          12           4.9          1960         0.0   \n",
       "10166   1960-02-23          10           6.0          1960         0.0   \n",
       "10156   1960-03-02          12           6.5          1960         0.0   \n",
       "\n",
       "       revenue_adj  \n",
       "10152          0.0  \n",
       "10150          0.0  \n",
       "10162          0.0  \n",
       "10166          0.0  \n",
       "10156          0.0  "
      ]
     },
     "execution_count": 73,
     "metadata": {},
     "output_type": "execute_result"
    }
   ],
   "source": [
    "df.head()\n"
   ]
  },
  {
   "cell_type": "code",
   "execution_count": 129,
   "id": "4b803604",
   "metadata": {},
   "outputs": [
    {
     "data": {
      "text/plain": [
       "Text(0.5, 1.0, 'Revenue histogram')"
      ]
     },
     "execution_count": 129,
     "metadata": {},
     "output_type": "execute_result"
    },
    {
     "data": {
      "image/png": "[encoded data removed]",
      "text/plain": [
       "<Figure size 432x288 with 1 Axes>"
      ]
     },
     "metadata": {
      "needs_background": "light"
     },
     "output_type": "display_data"
    }
   ],
   "source": [
    "plt.hist(x = df['revenue_adj']);\n",
    "plt.xlabel('revenue');\n",
    "font1 = {'family':'serif','color':'blue','size':20}\n",
    "# font2 = {'family':'serif','color':'darkred','size':15}\n",
    "\n",
    "plt.title(\"Revenue histogram\", fontdict = font1)\n"
   ]
  },
  {
   "cell_type": "markdown",
   "id": "d931cc5e",
   "metadata": {},
   "source": [
    "This is skewed distribution. Let's see the summary of revenue_adj column:"
   ]
  },
  {
   "cell_type": "code",
   "execution_count": 73,
   "id": "82f227db",
   "metadata": {},
   "outputs": [
    {
     "data": {
      "text/plain": [
       "count    1.073100e+04\n",
       "mean     5.200623e+07\n",
       "std      1.454252e+08\n",
       "min      0.000000e+00\n",
       "25%      0.000000e+00\n",
       "50%      0.000000e+00\n",
       "75%      3.470546e+07\n",
       "max      2.827124e+09\n",
       "Name: revenue_adj, dtype: float64"
      ]
     },
     "execution_count": 73,
     "metadata": {},
     "output_type": "execute_result"
    }
   ],
   "source": [
    "df['revenue_adj'].describe()\n"
   ]
  },
  {
   "cell_type": "markdown",
   "id": "487a57b0",
   "metadata": {},
   "source": [
    "Minimum value in revenue_adj is 0. That's why our distribution is skewed. Let's see how many such rows are there."
   ]
  },
  {
   "cell_type": "code",
   "execution_count": 74,
   "id": "bb87a63a",
   "metadata": {},
   "outputs": [
    {
     "data": {
      "text/plain": [
       "(5888, 54.86907091603765)"
      ]
     },
     "execution_count": 74,
     "metadata": {},
     "output_type": "execute_result"
    }
   ],
   "source": [
    "# minimum value of revenue is 0.\n",
    "df[df['revenue_adj'] == min(df['revenue_adj'])].shape[0], 100*(df[df['revenue_adj'] == min(df['revenue_adj'])].shape[0])/df.shape[0]"
   ]
  },
  {
   "cell_type": "markdown",
   "id": "a2cd52a0",
   "metadata": {},
   "source": [
    "5888 movies have no revenue. It is more than 50% of df.This will skew our distribution for revenue_adj column.\n",
    "In order to correctly know the properties of high revenue movies, it is important to remove movies which have no revenue."
   ]
  },
  {
   "cell_type": "code",
   "execution_count": 75,
   "id": "3f5ace3a",
   "metadata": {},
   "outputs": [],
   "source": [
    "df_r2 = df.query(\"revenue_adj != 0\")\n"
   ]
  },
  {
   "cell_type": "markdown",
   "id": "801311eb",
   "metadata": {},
   "source": [
    "##### Definition of scatter diagram graphs\n",
    "The scatter diagram graphs pairs of numerical data, with one variable on each axis, to look for a relationship between them. If the variables are correlated, the points will fall along a line or curve.\n",
    "The better the correlation, the tighter the points will hug the line."
   ]
  },
  {
   "cell_type": "code",
   "execution_count": 131,
   "id": "24e94b0c",
   "metadata": {},
   "outputs": [
    {
     "data": {
      "text/plain": [
       "Text(0, 0.5, 'revenue')"
      ]
     },
     "execution_count": 131,
     "metadata": {},
     "output_type": "execute_result"
    },
    {
     "data": {
      "image/png": "[encoded data removed]",
      "text/plain": [
       "<Figure size 432x288 with 1 Axes>"
      ]
     },
     "metadata": {
      "needs_background": "light"
     },
     "output_type": "display_data"
    }
   ],
   "source": [
    "plt.scatter(x = df_r2[\"budget_adj\"], y = df_r2['revenue_adj'],alpha = 0.4);\n",
    "# plt.xlabel(\"budget\");\n",
    "# plt.ylabel(\"revenue\");\n",
    "plt.axvline(x = 100000000, color = 'Green', alpha = 0.7);\n",
    "\n",
    "font1 = {'family':'serif','color':'blue','size':20}\n",
    "font2 = {'family':'serif','color':'darkred','size':12}\n",
    "\n",
    "plt.title(\"Budget vs revenue\", fontdict = font1)\n",
    "plt.xlabel(\"budget\", fontdict = font2)\n",
    "plt.ylabel(\"revenue\", fontdict = font2)\n"
   ]
  },
  {
   "cell_type": "markdown",
   "id": "e71d35a5",
   "metadata": {},
   "source": [
    "from the scatterplot, it is clear that revenue is not strongly dependent on budget of movie. There are few movies which have high revenue. Budget of most of the movies is less than $100m."
   ]
  },
  {
   "cell_type": "code",
   "execution_count": 126,
   "id": "67f58071",
   "metadata": {},
   "outputs": [
    {
     "data": {
      "text/plain": [
       "Text(0, 0.5, 'revenue_adj')"
      ]
     },
     "execution_count": 126,
     "metadata": {},
     "output_type": "execute_result"
    },
    {
     "data": {
      "image/png": "[encoded data removed]",
      "text/plain": [
       "<Figure size 432x288 with 1 Axes>"
      ]
     },
     "metadata": {
      "needs_background": "light"
     },
     "output_type": "display_data"
    }
   ],
   "source": [
    "plt.scatter(x = df_r2['vote_average'],y = df_r2['revenue_adj'], alpha = 0.1);\n",
    "# plt.xlabel(\"avg_vote\");\n",
    "# plt.ylabel(\"revenue\");\n",
    "plt.axvline(x = np.mean(df['vote_average']), color = 'Green');\n",
    "# plt.title(\"Relation between revenue and voting average\")\n",
    "\n",
    "font1 = {'family':'serif','color':'blue','size':20}\n",
    "font2 = {'family':'serif','color':'darkred','size':15}\n",
    "\n",
    "plt.title(\"Revenue vs vote average\", fontdict = font1)\n",
    "plt.xlabel(\"vote_average\", fontdict = font2)\n",
    "plt.ylabel(\"revenue_adj\", fontdict = font2)"
   ]
  },
  {
   "cell_type": "markdown",
   "id": "026f75ab",
   "metadata": {},
   "source": [
    "This graph shows that high revenue movies have voting above average."
   ]
  },
  {
   "cell_type": "code",
   "execution_count": 121,
   "id": "57936450",
   "metadata": {},
   "outputs": [],
   "source": [
    "# y = df_r2['revenue_adj']\n",
    "# plt.plot (x, y, alpha = 0.8)\n",
    "# # plt.xlabel(\"vote_average\")\n",
    "# # plt.ylabel(\"revenue_adj\")\n",
    "# plt.axvline(x = np.mean(df['vote_average']), color = 'Green')\n",
    "# # plt.title(\"Relation between revenue and voting average\")\n",
    "\n",
    "# font1 = {'family':'serif','color':'blue','size':20}\n",
    "# font2 = {'family':'serif','color':'darkred','size':15}\n",
    "\n",
    "# plt.title(\"Relation between revenue and vote average\", fontdict = font1)\n",
    "# plt.xlabel(\"vote_average\", fontdict = font2)\n",
    "# plt.ylabel(\"revenue_adj\", fontdict = font2)\n",
    "\n"
   ]
  },
  {
   "cell_type": "code",
   "execution_count": 127,
   "id": "46393c28",
   "metadata": {},
   "outputs": [
    {
     "data": {
      "text/plain": [
       "Text(0, 0.5, 'revenue')"
      ]
     },
     "execution_count": 127,
     "metadata": {},
     "output_type": "execute_result"
    },
    {
     "data": {
      "image/png": "[encoded data removed]",
      "text/plain": [
       "<Figure size 432x288 with 1 Axes>"
      ]
     },
     "metadata": {
      "needs_background": "light"
     },
     "output_type": "display_data"
    }
   ],
   "source": [
    "plt.scatter(df_r2[\"vote_count\"], df_r2['revenue_adj'], alpha = 0.1);\n",
    "# plt.xlabel(\"vote_count\");\n",
    "# plt.ylabel(\"revenue\");\n",
    "\n",
    "font1 = {'family':'serif','color':'blue','size':20}\n",
    "font2 = {'family':'serif','color':'darkred','size':15}\n",
    "\n",
    "plt.title(\"Vote_count vs revenue\", fontdict = font1)\n",
    "plt.xlabel(\"vote_count\", fontdict = font2)\n",
    "plt.ylabel(\"revenue\", fontdict = font2)"
   ]
  },
  {
   "cell_type": "markdown",
   "id": "3d7bab5e",
   "metadata": {},
   "source": [
    "There is a positive correlation between revenue and vote_count but not strong enough to make any conclusion."
   ]
  },
  {
   "cell_type": "code",
   "execution_count": 124,
   "id": "7f8aafff",
   "metadata": {},
   "outputs": [
    {
     "data": {
      "text/plain": [
       "Text(0, 0.5, 'Revenue')"
      ]
     },
     "execution_count": 124,
     "metadata": {},
     "output_type": "execute_result"
    },
    {
     "data": {
      "image/png": "[encoded data removed]",
      "text/plain": [
       "<Figure size 432x288 with 1 Axes>"
      ]
     },
     "metadata": {
      "needs_background": "light"
     },
     "output_type": "display_data"
    }
   ],
   "source": [
    "plt.scatter(x = df_r2['release_year'], y = df_r2['revenue_adj'], alpha = 0.3);\n",
    "# plt.xlabel('year');\n",
    "# plt.ylabel('revenue');\n",
    "plt.axhline(y = np.mean(df_r2['revenue_adj']), color = 'Orange', alpha = 0.7)\n",
    "plt.title('Revenue vs Year');\n",
    "\n",
    "font1 = {'family':'serif','color':'blue','size':20}\n",
    "font2 = {'family':'serif','color':'darkred','size':15}\n",
    "\n",
    "plt.title(\"Revenue vs Year\", fontdict = font1)\n",
    "plt.xlabel(\"Year\", fontdict = font2)\n",
    "plt.ylabel(\"Revenue\", fontdict = font2)\n"
   ]
  },
  {
   "cell_type": "code",
   "execution_count": null,
   "id": "c425dc08",
   "metadata": {},
   "outputs": [],
   "source": []
  },
  {
   "cell_type": "markdown",
   "id": "d82d4566",
   "metadata": {},
   "source": [
    "The increasing density of blue color shows that number of high revenue movies has increased from 1960 to 2015. The red line is for mean of revenue_adj column.\n",
    "\n"
   ]
  },
  {
   "cell_type": "markdown",
   "id": "2ee210e4",
   "metadata": {},
   "source": [
    "# Question 3: What are the most popular films from one year to the next?"
   ]
  },
  {
   "cell_type": "code",
   "execution_count": 89,
   "id": "34ad6c16",
   "metadata": {},
   "outputs": [
    {
     "data": {
      "text/plain": [
       "count    10731.000000\n",
       "mean         0.652615\n",
       "std          1.004804\n",
       "min          0.000188\n",
       "25%          0.210765\n",
       "50%          0.387081\n",
       "75%          0.720889\n",
       "max         32.985763\n",
       "Name: popularity, dtype: float64"
      ]
     },
     "execution_count": 89,
     "metadata": {},
     "output_type": "execute_result"
    }
   ],
   "source": [
    "df['popularity'].describe()\n"
   ]
  },
  {
   "cell_type": "code",
   "execution_count": 91,
   "id": "a8bd36a5",
   "metadata": {},
   "outputs": [
    {
     "data": {
      "image/png": "[encoded data removed]",
      "text/plain": [
       "<Figure size 432x288 with 1 Axes>"
      ]
     },
     "metadata": {
      "needs_background": "light"
     },
     "output_type": "display_data"
    }
   ],
   "source": [
    "plt.scatter(x = df['runtime'],y = df['popularity'], alpha = 0.3)\n",
    "plt.axvline(x = df['runtime'].mean(), color = \"blue\");\n",
    "plt.axvline(x = np.mean(df['runtime']) + 3*np.std(df['runtime']), color = 'blue')\n",
    "plt.xlabel(\"runtime\");\n",
    "plt.ylabel(\"popularity\");\n",
    "plt.title('Popularity vs Runtime');"
   ]
  },
  {
   "cell_type": "code",
   "execution_count": 92,
   "id": "60a20efe",
   "metadata": {},
   "outputs": [
    {
     "data": {
      "text/plain": [
       "30.49245171681272"
      ]
     },
     "execution_count": 92,
     "metadata": {},
     "output_type": "execute_result"
    }
   ],
   "source": [
    "np.std(df['runtime'])\n"
   ]
  },
  {
   "cell_type": "code",
   "execution_count": 93,
   "id": "d56eaa82",
   "metadata": {},
   "outputs": [
    {
     "data": {
      "text/plain": [
       "102.46882862734135"
      ]
     },
     "execution_count": 93,
     "metadata": {},
     "output_type": "execute_result"
    }
   ],
   "source": [
    "df['runtime'].mean()\n"
   ]
  },
  {
   "cell_type": "markdown",
   "id": "36ce15ff",
   "metadata": {},
   "source": [
    "Average runtime of movies is around 102 minute. All the popular movies have runtime more than 102 minute. First vertical line is for np.mean(df['runtime']) and second vertical line is for np.mean(df['runtime']) + 3*np.std(df['runtime'])."
   ]
  },
  {
   "cell_type": "code",
   "execution_count": 94,
   "id": "1f4d64c5",
   "metadata": {},
   "outputs": [
    {
     "data": {
      "image/png": "[encoded data removed]",
      "text/plain": [
       "<Figure size 432x288 with 1 Axes>"
      ]
     },
     "metadata": {
      "needs_background": "light"
     },
     "output_type": "display_data"
    }
   ],
   "source": [
    "plt.scatter(x = df['budget_adj'], y = df['popularity'], alpha = 0.3);\n",
    "plt.xlabel('budget');\n",
    "plt.ylabel('popularity');\n",
    "plt.title('Popularity vs Budget');\n",
    "plt.axvline(x = 100000000, color = 'blue', alpha = 0.7);\n",
    "plt.axvline(x = 200000000, color = 'blue', alpha = 0.7);"
   ]
  },
  {
   "cell_type": "markdown",
   "id": "a2fafe05",
   "metadata": {},
   "source": [
    "Popular movies have budget between $100m and 200m.\n",
    "\n"
   ]
  },
  {
   "cell_type": "code",
   "execution_count": 96,
   "id": "d3ef7d3b",
   "metadata": {},
   "outputs": [
    {
     "data": {
      "image/png": "[encoded data removed]",
      "text/plain": [
       "<Figure size 432x288 with 1 Axes>"
      ]
     },
     "metadata": {
      "needs_background": "light"
     },
     "output_type": "display_data"
    }
   ],
   "source": [
    "plt.scatter(x = df_r2['release_year'], y = df_r2['popularity'],alpha= 0.4);\n",
    "plt.xlabel('year');\n",
    "plt.ylabel('popularity');\n",
    "plt.title('Popularity vs Release Year');\n",
    "plt.axhline(y = np.mean(df['popularity']), color = 'black', alpha = 0.7);"
   ]
  },
  {
   "cell_type": "markdown",
   "id": "9f6cc7c6",
   "metadata": {},
   "source": [
    "Popularity of movies has increased from 1960 to 2015, 2015 showing the highest popularity movies.\n",
    "\n"
   ]
  },
  {
   "cell_type": "code",
   "execution_count": 98,
   "id": "08fc3301",
   "metadata": {},
   "outputs": [
    {
     "data": {
      "image/png": "[encoded data removed]",
      "text/plain": [
       "<Figure size 432x288 with 1 Axes>"
      ]
     },
     "metadata": {
      "needs_background": "light"
     },
     "output_type": "display_data"
    }
   ],
   "source": [
    "plt.scatter(x = df['vote_count'], y = df['popularity'], alpha = 0.1);\n",
    "plt.xlabel('vote_count');\n",
    "plt.ylabel('popularity');\n",
    "plt.axvline(x = 2000, color = 'black');\n",
    "plt.title('Popularity vs Vote Count');"
   ]
  },
  {
   "cell_type": "markdown",
   "id": "0135091f",
   "metadata": {},
   "source": [
    "bove graph shows that popular movies have high vote count, wheras all the less popular movies have vote count less than 2000. The vertical line shows this trend."
   ]
  },
  {
   "cell_type": "code",
   "execution_count": 128,
   "id": "8b4cff4e",
   "metadata": {},
   "outputs": [
    {
     "data": {
      "image/png": "[encoded data removed]",
      "text/plain": [
       "<Figure size 432x288 with 1 Axes>"
      ]
     },
     "metadata": {
      "needs_background": "light"
     },
     "output_type": "display_data"
    }
   ],
   "source": [
    "plt.scatter(x = df['vote_average'], y = df['popularity'], alpha = 0.1);\n",
    "plt.xlabel('vote_average');\n",
    "plt.ylabel('popularity');\n",
    "plt.axvline(x = np.mean(df['vote_average']), color = \"black\");\n",
    "plt.title('Popularity vs Average Vote');"
   ]
  },
  {
   "cell_type": "markdown",
   "id": "2e4f7b5d",
   "metadata": {},
   "source": [
    "Popular movies also have above average voting."
   ]
  },
  {
   "cell_type": "code",
   "execution_count": 101,
   "id": "d2a831af",
   "metadata": {},
   "outputs": [
    {
     "data": {
      "image/png": "[encoded data removed]",
      "text/plain": [
       "<Figure size 432x288 with 1 Axes>"
      ]
     },
     "metadata": {
      "needs_background": "light"
     },
     "output_type": "display_data"
    }
   ],
   "source": [
    "plt.scatter(x = df['revenue_adj'], y = df['popularity'], alpha = 0.1);\n",
    "plt.xlabel('revenue');\n",
    "plt.ylabel('popularity');\n",
    "plt.title('Popularity vs Revenue');"
   ]
  },
  {
   "cell_type": "markdown",
   "id": "e0467ff4",
   "metadata": {},
   "source": [
    "# Conclusions\n"
   ]
  },
  {
   "cell_type": "markdown",
   "id": "479e611f",
   "metadata": {},
   "source": [
    "## Research Question 1\n"
   ]
  },
  {
   "cell_type": "markdown",
   "id": "0009685d",
   "metadata": {},
   "source": [
    "The popular genres from 1960 to 2015 are drama, comedy, thriller, action and romance respectively. Drama and comedy films consistently occupy the top two places, but thriller and action films changed their position around 1974. Since 1974, the popularity of action films has declined. The fifth position is occupied by romantic films."
   ]
  },
  {
   "cell_type": "markdown",
   "id": "5e5e6a92",
   "metadata": {},
   "source": [
    "## Research Question 2\n",
    "I had to drop half of the entries in the revenue_adj column to see the properties of the high grossing films. There was no relationship between revenue and budget. Most high grossing films have above average votes. As the number of average votes for a film increases, so does its revenue. If we try to fit the curve from the revenue_adj column to the average_votes column, we will get an ascending parabola or exponential.\n",
    "\n"
   ]
  },
  {
   "cell_type": "markdown",
   "id": "3623dcfb",
   "metadata": {},
   "source": [
    "## Research Question 3\n",
    "\n",
    "Most favourite films have a duration equal to or greater than the average in the duration column. The vertical lines show this trend. The budget of popular films is between 100 and 200 million dollars, but I have not indicated the exact budget values because it does not equal a statistic in the budget_adj column. The popularity and interest in films has increased from time to time. In the popularity vs. year graph, we can see that 2015 saw the most popular films of all time. The graph of Popularity vs the Average Vote shows that all the popular films have an above average vote."
   ]
  },
  {
   "cell_type": "markdown",
   "id": "45e0037b",
   "metadata": {},
   "source": [
    "## Limitation of the study\n"
   ]
  },
  {
   "cell_type": "markdown",
   "id": "ea15a4cd",
   "metadata": {},
   "source": [
    "This analysis was done on student scope to help him to fullfil the requirement of non degree program from udacity and there is a high probabity that this is study will not be put into practice.\n"
   ]
  },
  {
   "cell_type": "code",
   "execution_count": 104,
   "id": "fbfc3062",
   "metadata": {},
   "outputs": [
    {
     "data": {
      "text/plain": [
       "4294967295"
      ]
     },
     "execution_count": 104,
     "metadata": {},
     "output_type": "execute_result"
    }
   ],
   "source": [
    "from subprocess import call\n",
    "call(['python', '-m', 'nbconvert', 'Investigate_a_Dataset.ipynb'])"
   ]
  },
  {
   "cell_type": "code",
   "execution_count": null,
   "id": "aa609c4a",
   "metadata": {},
   "outputs": [],
   "source": []
  },
  {
   "cell_type": "code",
   "execution_count": null,
   "id": "48a7b8b1",
   "metadata": {},
   "outputs": [],
   "source": []
  }
 ],
 "metadata": {
  "kernelspec": {
   "display_name": "Python 3 (ipykernel)",
   "language": "python",
   "name": "python3"
  },
  "language_info": {
   "codemirror_mode": {
    "name": "ipython",
    "version": 3
   },
   "file_extension": ".py",
   "mimetype": "text/x-python",
   "name": "python",
   "nbconvert_exporter": "python",
   "pygments_lexer": "ipython3",
   "version": "3.9.7"
  }
 },
 "nbformat": 4,
 "nbformat_minor": 5
}
